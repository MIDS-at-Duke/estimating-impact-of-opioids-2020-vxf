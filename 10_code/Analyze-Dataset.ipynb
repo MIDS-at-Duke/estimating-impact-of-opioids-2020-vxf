{
 "cells": [
  {
   "cell_type": "code",
   "execution_count": 1,
   "metadata": {},
   "outputs": [],
   "source": [
    "import pandas as pd\n",
    "import numpy as np\n",
    "import re\n",
    "pd.set_option('display.max_columns', None)"
   ]
  },
  {
   "cell_type": "markdown",
   "metadata": {},
   "source": [
    "### Import Datasets"
   ]
  },
  {
   "cell_type": "code",
   "execution_count": 2,
   "metadata": {},
   "outputs": [],
   "source": [
    "mortality_2003_Df = pd.read_csv('/Users/ashish/Desktop/Duke/Fall 2020/IDS 720/estimating-impact-of-opioids-2020-vxf/00_source/US_VitalStatistics/Underlying Cause of Death, 2003.txt', sep='\\t')\n",
    "mortality_2004_Df = pd.read_csv('/Users/ashish/Desktop/Duke/Fall 2020/IDS 720/estimating-impact-of-opioids-2020-vxf/00_source/US_VitalStatistics/Underlying Cause of Death, 2004.txt', sep='\\t')\n",
    "mortality_2005_Df = pd.read_csv('/Users/ashish/Desktop/Duke/Fall 2020/IDS 720/estimating-impact-of-opioids-2020-vxf/00_source/US_VitalStatistics/Underlying Cause of Death, 2005.txt', sep='\\t')\n",
    "mortality_2006_Df = pd.read_csv('/Users/ashish/Desktop/Duke/Fall 2020/IDS 720/estimating-impact-of-opioids-2020-vxf/00_source/US_VitalStatistics/Underlying Cause of Death, 2006.txt', sep='\\t')\n",
    "mortality_2007_Df = pd.read_csv('/Users/ashish/Desktop/Duke/Fall 2020/IDS 720/estimating-impact-of-opioids-2020-vxf/00_source/US_VitalStatistics/Underlying Cause of Death, 2007.txt', sep='\\t')\n",
    "mortality_2008_Df = pd.read_csv('/Users/ashish/Desktop/Duke/Fall 2020/IDS 720/estimating-impact-of-opioids-2020-vxf/00_source/US_VitalStatistics/Underlying Cause of Death, 2008.txt', sep='\\t')\n",
    "mortality_2009_Df = pd.read_csv('/Users/ashish/Desktop/Duke/Fall 2020/IDS 720/estimating-impact-of-opioids-2020-vxf/00_source/US_VitalStatistics/Underlying Cause of Death, 2009.txt', sep='\\t')\n",
    "mortality_2010_Df = pd.read_csv('/Users/ashish/Desktop/Duke/Fall 2020/IDS 720/estimating-impact-of-opioids-2020-vxf/00_source/US_VitalStatistics/Underlying Cause of Death, 2010.txt', sep='\\t')\n",
    "mortality_2011_Df = pd.read_csv('/Users/ashish/Desktop/Duke/Fall 2020/IDS 720/estimating-impact-of-opioids-2020-vxf/00_source/US_VitalStatistics/Underlying Cause of Death, 2011.txt', sep='\\t')\n",
    "mortality_2012_Df = pd.read_csv('/Users/ashish/Desktop/Duke/Fall 2020/IDS 720/estimating-impact-of-opioids-2020-vxf/00_source/US_VitalStatistics/Underlying Cause of Death, 2012.txt', sep='\\t')\n",
    "mortality_2013_Df = pd.read_csv('/Users/ashish/Desktop/Duke/Fall 2020/IDS 720/estimating-impact-of-opioids-2020-vxf/00_source/US_VitalStatistics/Underlying Cause of Death, 2013.txt', sep='\\t')\n",
    "mortality_2014_Df = pd.read_csv('/Users/ashish/Desktop/Duke/Fall 2020/IDS 720/estimating-impact-of-opioids-2020-vxf/00_source/US_VitalStatistics/Underlying Cause of Death, 2014.txt', sep='\\t')\n",
    "mortality_2015_Df = pd.read_csv('/Users/ashish/Desktop/Duke/Fall 2020/IDS 720/estimating-impact-of-opioids-2020-vxf/00_source/US_VitalStatistics/Underlying Cause of Death, 2015.txt', sep='\\t')\n",
    "\n",
    "mortality_list = [mortality_2003_Df,\n",
    "mortality_2004_Df,\n",
    "mortality_2005_Df,\n",
    "mortality_2006_Df,\n",
    "mortality_2007_Df,\n",
    "mortality_2008_Df,\n",
    "mortality_2009_Df,\n",
    "mortality_2010_Df,\n",
    "mortality_2011_Df,\n",
    "mortality_2012_Df,\n",
    "mortality_2013_Df,\n",
    "mortality_2014_Df,\n",
    "mortality_2015_Df]\n",
    "\n",
    "mortality = pd.DataFrame()\n",
    "for i in mortality_list:\n",
    "    mortality = mortality.append(i)\n",
    "\n",
    "mortality = mortality.reset_index()\n",
    "\n",
    "opioid_df = pd.read_csv('/Users/ashish/Desktop/Duke/Fall 2020/IDS 720/estimating-impact-of-opioids-2020-vxf/00_source/arcos_all_washpost.tsv'\n",
    "                        , sep='\\t'\n",
    "                        , nrows = 5000)\n",
    "\n"
   ]
  },
  {
   "cell_type": "markdown",
   "metadata": {},
   "source": [
    "### Drop counties that contain 'missing' keyword in Deaths column"
   ]
  },
  {
   "cell_type": "code",
   "execution_count": 3,
   "metadata": {},
   "outputs": [
    {
     "data": {
      "text/plain": [
       "Prince of Wales-Outer Ketchikan Census Area, AK    8\n",
       "Bedford city, VA                                   8\n",
       "Clifton Forge city, VA                             8\n",
       "Wrangell-Petersburg Census Area, AK                8\n",
       "Skagway-Hoonah-Angoon Census Area, AK              8\n",
       "Name: County, dtype: int64"
      ]
     },
     "execution_count": 3,
     "metadata": {},
     "output_type": "execute_result"
    }
   ],
   "source": [
    "mortality[mortality['Deaths'] == 'Missing']['County'].value_counts()"
   ]
  },
  {
   "cell_type": "code",
   "execution_count": 4,
   "metadata": {},
   "outputs": [],
   "source": [
    "mortality = mortality[mortality['Deaths'] != 'Missing']"
   ]
  },
  {
   "cell_type": "code",
   "execution_count": 5,
   "metadata": {},
   "outputs": [
    {
     "data": {
      "text/plain": [
       "Series([], Name: County, dtype: int64)"
      ]
     },
     "execution_count": 5,
     "metadata": {},
     "output_type": "execute_result"
    }
   ],
   "source": [
    "mortality[mortality['Deaths'] == 'Missing']['County'].value_counts()"
   ]
  },
  {
   "cell_type": "code",
   "execution_count": 6,
   "metadata": {},
   "outputs": [],
   "source": [
    "mortality['Deaths'] = pd.to_numeric(mortality['Deaths'])"
   ]
  },
  {
   "cell_type": "code",
   "execution_count": 7,
   "metadata": {},
   "outputs": [
    {
     "data": {
      "text/html": [
       "<div>\n",
       "<style scoped>\n",
       "    .dataframe tbody tr th:only-of-type {\n",
       "        vertical-align: middle;\n",
       "    }\n",
       "\n",
       "    .dataframe tbody tr th {\n",
       "        vertical-align: top;\n",
       "    }\n",
       "\n",
       "    .dataframe thead th {\n",
       "        text-align: right;\n",
       "    }\n",
       "</style>\n",
       "<table border=\"1\" class=\"dataframe\">\n",
       "  <thead>\n",
       "    <tr style=\"text-align: right;\">\n",
       "      <th></th>\n",
       "      <th>index</th>\n",
       "      <th>Notes</th>\n",
       "      <th>County</th>\n",
       "      <th>County Code</th>\n",
       "      <th>Year</th>\n",
       "      <th>Year Code</th>\n",
       "      <th>Drug/Alcohol Induced Cause</th>\n",
       "      <th>Drug/Alcohol Induced Cause Code</th>\n",
       "      <th>Deaths</th>\n",
       "    </tr>\n",
       "  </thead>\n",
       "  <tbody>\n",
       "    <tr>\n",
       "      <th>0</th>\n",
       "      <td>0</td>\n",
       "      <td>NaN</td>\n",
       "      <td>Autauga County, AL</td>\n",
       "      <td>1001.0</td>\n",
       "      <td>2003.0</td>\n",
       "      <td>2003.0</td>\n",
       "      <td>All other non-drug and non-alcohol causes</td>\n",
       "      <td>O9</td>\n",
       "      <td>397.0</td>\n",
       "    </tr>\n",
       "    <tr>\n",
       "      <th>1</th>\n",
       "      <td>1</td>\n",
       "      <td>NaN</td>\n",
       "      <td>Baldwin County, AL</td>\n",
       "      <td>1003.0</td>\n",
       "      <td>2003.0</td>\n",
       "      <td>2003.0</td>\n",
       "      <td>Drug poisonings (overdose) Unintentional (X40-...</td>\n",
       "      <td>D1</td>\n",
       "      <td>10.0</td>\n",
       "    </tr>\n",
       "    <tr>\n",
       "      <th>2</th>\n",
       "      <td>2</td>\n",
       "      <td>NaN</td>\n",
       "      <td>Baldwin County, AL</td>\n",
       "      <td>1003.0</td>\n",
       "      <td>2003.0</td>\n",
       "      <td>2003.0</td>\n",
       "      <td>All other alcohol-induced causes</td>\n",
       "      <td>A9</td>\n",
       "      <td>14.0</td>\n",
       "    </tr>\n",
       "    <tr>\n",
       "      <th>3</th>\n",
       "      <td>3</td>\n",
       "      <td>NaN</td>\n",
       "      <td>Baldwin County, AL</td>\n",
       "      <td>1003.0</td>\n",
       "      <td>2003.0</td>\n",
       "      <td>2003.0</td>\n",
       "      <td>All other non-drug and non-alcohol causes</td>\n",
       "      <td>O9</td>\n",
       "      <td>1479.0</td>\n",
       "    </tr>\n",
       "    <tr>\n",
       "      <th>4</th>\n",
       "      <td>4</td>\n",
       "      <td>NaN</td>\n",
       "      <td>Barbour County, AL</td>\n",
       "      <td>1005.0</td>\n",
       "      <td>2003.0</td>\n",
       "      <td>2003.0</td>\n",
       "      <td>All other non-drug and non-alcohol causes</td>\n",
       "      <td>O9</td>\n",
       "      <td>287.0</td>\n",
       "    </tr>\n",
       "  </tbody>\n",
       "</table>\n",
       "</div>"
      ],
      "text/plain": [
       "   index Notes              County  County Code    Year  Year Code  \\\n",
       "0      0   NaN  Autauga County, AL       1001.0  2003.0     2003.0   \n",
       "1      1   NaN  Baldwin County, AL       1003.0  2003.0     2003.0   \n",
       "2      2   NaN  Baldwin County, AL       1003.0  2003.0     2003.0   \n",
       "3      3   NaN  Baldwin County, AL       1003.0  2003.0     2003.0   \n",
       "4      4   NaN  Barbour County, AL       1005.0  2003.0     2003.0   \n",
       "\n",
       "                          Drug/Alcohol Induced Cause  \\\n",
       "0          All other non-drug and non-alcohol causes   \n",
       "1  Drug poisonings (overdose) Unintentional (X40-...   \n",
       "2                   All other alcohol-induced causes   \n",
       "3          All other non-drug and non-alcohol causes   \n",
       "4          All other non-drug and non-alcohol causes   \n",
       "\n",
       "  Drug/Alcohol Induced Cause Code  Deaths  \n",
       "0                              O9   397.0  \n",
       "1                              D1    10.0  \n",
       "2                              A9    14.0  \n",
       "3                              O9  1479.0  \n",
       "4                              O9   287.0  "
      ]
     },
     "execution_count": 7,
     "metadata": {},
     "output_type": "execute_result"
    }
   ],
   "source": [
    "mortality.head()"
   ]
  },
  {
   "cell_type": "markdown",
   "metadata": {},
   "source": [
    "### Identify Drug Related Types\n",
    "1. Drug poisonings (overdose) Unintentional (X40-X44) <br>\n",
    "2. Drug poisonings (overdose) Suicide (X60-X64) <br>\n",
    "3. Drug poisonings (overdose) Undetermined (Y10-Y14) <br>\n",
    "4. All other drug-induced causes <br>\n",
    "5. Drug poisonings (overdose) Homicide (X85)"
   ]
  },
  {
   "cell_type": "code",
   "execution_count": 8,
   "metadata": {},
   "outputs": [
    {
     "data": {
      "text/plain": [
       "All other non-drug and non-alcohol causes             40332\n",
       "Drug poisonings (overdose) Unintentional (X40-X44)     7568\n",
       "All other alcohol-induced causes                       6118\n",
       "Drug poisonings (overdose) Suicide (X60-X64)           1460\n",
       "Drug poisonings (overdose) Undetermined (Y10-Y14)       756\n",
       "All other drug-induced causes                           623\n",
       "Alcohol poisonings (overdose) (X45, X65, Y15)           344\n",
       "Name: Drug/Alcohol Induced Cause, dtype: int64"
      ]
     },
     "execution_count": 8,
     "metadata": {},
     "output_type": "execute_result"
    }
   ],
   "source": [
    "mortality['Drug/Alcohol Induced Cause'].value_counts()"
   ]
  },
  {
   "cell_type": "code",
   "execution_count": 9,
   "metadata": {},
   "outputs": [],
   "source": [
    "subset_list = ['Drug poisonings (overdose) Unintentional (X40-X44)',\n",
    "              'Drug poisonings (overdose) Suicide (X60-X64)',\n",
    "              'Drug poisonings (overdose) Undetermined (Y10-Y14)',\n",
    "              'All other drug-induced causes',\n",
    "              'Drug poisonings (overdose) Homicide (X85)']"
   ]
  },
  {
   "cell_type": "code",
   "execution_count": 10,
   "metadata": {},
   "outputs": [],
   "source": [
    "mortality_sub = mortality[mortality['Drug/Alcohol Induced Cause'].isin(subset_list)]"
   ]
  },
  {
   "cell_type": "code",
   "execution_count": 11,
   "metadata": {},
   "outputs": [
    {
     "data": {
      "text/html": [
       "<div>\n",
       "<style scoped>\n",
       "    .dataframe tbody tr th:only-of-type {\n",
       "        vertical-align: middle;\n",
       "    }\n",
       "\n",
       "    .dataframe tbody tr th {\n",
       "        vertical-align: top;\n",
       "    }\n",
       "\n",
       "    .dataframe thead th {\n",
       "        text-align: right;\n",
       "    }\n",
       "</style>\n",
       "<table border=\"1\" class=\"dataframe\">\n",
       "  <thead>\n",
       "    <tr style=\"text-align: right;\">\n",
       "      <th></th>\n",
       "      <th>County</th>\n",
       "      <th>Year</th>\n",
       "      <th>Deaths</th>\n",
       "    </tr>\n",
       "  </thead>\n",
       "  <tbody>\n",
       "    <tr>\n",
       "      <th>1</th>\n",
       "      <td>Baldwin County, AL</td>\n",
       "      <td>2003.0</td>\n",
       "      <td>10.0</td>\n",
       "    </tr>\n",
       "    <tr>\n",
       "      <th>38</th>\n",
       "      <td>Jefferson County, AL</td>\n",
       "      <td>2003.0</td>\n",
       "      <td>37.0</td>\n",
       "    </tr>\n",
       "    <tr>\n",
       "      <th>39</th>\n",
       "      <td>Jefferson County, AL</td>\n",
       "      <td>2003.0</td>\n",
       "      <td>32.0</td>\n",
       "    </tr>\n",
       "    <tr>\n",
       "      <th>54</th>\n",
       "      <td>Mobile County, AL</td>\n",
       "      <td>2003.0</td>\n",
       "      <td>26.0</td>\n",
       "    </tr>\n",
       "    <tr>\n",
       "      <th>78</th>\n",
       "      <td>Anchorage Borough, AK</td>\n",
       "      <td>2003.0</td>\n",
       "      <td>31.0</td>\n",
       "    </tr>\n",
       "  </tbody>\n",
       "</table>\n",
       "</div>"
      ],
      "text/plain": [
       "                   County    Year  Deaths\n",
       "1      Baldwin County, AL  2003.0    10.0\n",
       "38   Jefferson County, AL  2003.0    37.0\n",
       "39   Jefferson County, AL  2003.0    32.0\n",
       "54      Mobile County, AL  2003.0    26.0\n",
       "78  Anchorage Borough, AK  2003.0    31.0"
      ]
     },
     "execution_count": 11,
     "metadata": {},
     "output_type": "execute_result"
    }
   ],
   "source": [
    "mortality_sub = mortality_sub[['County', 'Year', 'Deaths']]\n",
    "mortality_sub.head()"
   ]
  },
  {
   "cell_type": "code",
   "execution_count": 12,
   "metadata": {},
   "outputs": [],
   "source": [
    "mortality_sub = mortality_sub.groupby(['County', 'Year'], as_index=False).sum()"
   ]
  },
  {
   "cell_type": "code",
   "execution_count": 13,
   "metadata": {},
   "outputs": [
    {
     "data": {
      "text/html": [
       "<div>\n",
       "<style scoped>\n",
       "    .dataframe tbody tr th:only-of-type {\n",
       "        vertical-align: middle;\n",
       "    }\n",
       "\n",
       "    .dataframe tbody tr th {\n",
       "        vertical-align: top;\n",
       "    }\n",
       "\n",
       "    .dataframe thead th {\n",
       "        text-align: right;\n",
       "    }\n",
       "</style>\n",
       "<table border=\"1\" class=\"dataframe\">\n",
       "  <thead>\n",
       "    <tr style=\"text-align: right;\">\n",
       "      <th></th>\n",
       "      <th>County</th>\n",
       "      <th>Year</th>\n",
       "      <th>Deaths</th>\n",
       "    </tr>\n",
       "  </thead>\n",
       "  <tbody>\n",
       "    <tr>\n",
       "      <th>0</th>\n",
       "      <td>Acadia Parish, LA</td>\n",
       "      <td>2003.0</td>\n",
       "      <td>11.0</td>\n",
       "    </tr>\n",
       "    <tr>\n",
       "      <th>1</th>\n",
       "      <td>Acadia Parish, LA</td>\n",
       "      <td>2005.0</td>\n",
       "      <td>23.0</td>\n",
       "    </tr>\n",
       "    <tr>\n",
       "      <th>2</th>\n",
       "      <td>Acadia Parish, LA</td>\n",
       "      <td>2006.0</td>\n",
       "      <td>19.0</td>\n",
       "    </tr>\n",
       "    <tr>\n",
       "      <th>3</th>\n",
       "      <td>Acadia Parish, LA</td>\n",
       "      <td>2007.0</td>\n",
       "      <td>19.0</td>\n",
       "    </tr>\n",
       "    <tr>\n",
       "      <th>4</th>\n",
       "      <td>Acadia Parish, LA</td>\n",
       "      <td>2009.0</td>\n",
       "      <td>11.0</td>\n",
       "    </tr>\n",
       "  </tbody>\n",
       "</table>\n",
       "</div>"
      ],
      "text/plain": [
       "              County    Year  Deaths\n",
       "0  Acadia Parish, LA  2003.0    11.0\n",
       "1  Acadia Parish, LA  2005.0    23.0\n",
       "2  Acadia Parish, LA  2006.0    19.0\n",
       "3  Acadia Parish, LA  2007.0    19.0\n",
       "4  Acadia Parish, LA  2009.0    11.0"
      ]
     },
     "execution_count": 13,
     "metadata": {},
     "output_type": "execute_result"
    }
   ],
   "source": [
    "mortality_sub.head()"
   ]
  },
  {
   "cell_type": "markdown",
   "metadata": {},
   "source": [
    "### Parse out State and County from County column"
   ]
  },
  {
   "cell_type": "code",
   "execution_count": 14,
   "metadata": {},
   "outputs": [
    {
     "data": {
      "text/html": [
       "<div>\n",
       "<style scoped>\n",
       "    .dataframe tbody tr th:only-of-type {\n",
       "        vertical-align: middle;\n",
       "    }\n",
       "\n",
       "    .dataframe tbody tr th {\n",
       "        vertical-align: top;\n",
       "    }\n",
       "\n",
       "    .dataframe thead th {\n",
       "        text-align: right;\n",
       "    }\n",
       "</style>\n",
       "<table border=\"1\" class=\"dataframe\">\n",
       "  <thead>\n",
       "    <tr style=\"text-align: right;\">\n",
       "      <th></th>\n",
       "      <th>State</th>\n",
       "      <th>County</th>\n",
       "    </tr>\n",
       "  </thead>\n",
       "  <tbody>\n",
       "    <tr>\n",
       "      <th>0</th>\n",
       "      <td>LA</td>\n",
       "      <td>Acadia Parish</td>\n",
       "    </tr>\n",
       "    <tr>\n",
       "      <th>1</th>\n",
       "      <td>LA</td>\n",
       "      <td>Acadia Parish</td>\n",
       "    </tr>\n",
       "    <tr>\n",
       "      <th>2</th>\n",
       "      <td>LA</td>\n",
       "      <td>Acadia Parish</td>\n",
       "    </tr>\n",
       "    <tr>\n",
       "      <th>3</th>\n",
       "      <td>LA</td>\n",
       "      <td>Acadia Parish</td>\n",
       "    </tr>\n",
       "    <tr>\n",
       "      <th>4</th>\n",
       "      <td>LA</td>\n",
       "      <td>Acadia Parish</td>\n",
       "    </tr>\n",
       "  </tbody>\n",
       "</table>\n",
       "</div>"
      ],
      "text/plain": [
       "  State         County\n",
       "0    LA  Acadia Parish\n",
       "1    LA  Acadia Parish\n",
       "2    LA  Acadia Parish\n",
       "3    LA  Acadia Parish\n",
       "4    LA  Acadia Parish"
      ]
     },
     "execution_count": 14,
     "metadata": {},
     "output_type": "execute_result"
    }
   ],
   "source": [
    "state = [x[-2:] for x in mortality_sub['County'].tolist()]\n",
    "county = [x[:-4] for x in mortality_sub['County'].tolist()]\n",
    "d = pd.DataFrame({'State':state, 'County':county})\n",
    "d.head()"
   ]
  },
  {
   "cell_type": "code",
   "execution_count": 15,
   "metadata": {},
   "outputs": [
    {
     "data": {
      "text/html": [
       "<div>\n",
       "<style scoped>\n",
       "    .dataframe tbody tr th:only-of-type {\n",
       "        vertical-align: middle;\n",
       "    }\n",
       "\n",
       "    .dataframe tbody tr th {\n",
       "        vertical-align: top;\n",
       "    }\n",
       "\n",
       "    .dataframe thead th {\n",
       "        text-align: right;\n",
       "    }\n",
       "</style>\n",
       "<table border=\"1\" class=\"dataframe\">\n",
       "  <thead>\n",
       "    <tr style=\"text-align: right;\">\n",
       "      <th></th>\n",
       "      <th>Year</th>\n",
       "      <th>Deaths</th>\n",
       "      <th>State</th>\n",
       "      <th>County_y</th>\n",
       "    </tr>\n",
       "  </thead>\n",
       "  <tbody>\n",
       "    <tr>\n",
       "      <th>0</th>\n",
       "      <td>2003.0</td>\n",
       "      <td>11.0</td>\n",
       "      <td>LA</td>\n",
       "      <td>Acadia Parish</td>\n",
       "    </tr>\n",
       "    <tr>\n",
       "      <th>1</th>\n",
       "      <td>2005.0</td>\n",
       "      <td>23.0</td>\n",
       "      <td>LA</td>\n",
       "      <td>Acadia Parish</td>\n",
       "    </tr>\n",
       "    <tr>\n",
       "      <th>2</th>\n",
       "      <td>2006.0</td>\n",
       "      <td>19.0</td>\n",
       "      <td>LA</td>\n",
       "      <td>Acadia Parish</td>\n",
       "    </tr>\n",
       "    <tr>\n",
       "      <th>3</th>\n",
       "      <td>2007.0</td>\n",
       "      <td>19.0</td>\n",
       "      <td>LA</td>\n",
       "      <td>Acadia Parish</td>\n",
       "    </tr>\n",
       "    <tr>\n",
       "      <th>4</th>\n",
       "      <td>2009.0</td>\n",
       "      <td>11.0</td>\n",
       "      <td>LA</td>\n",
       "      <td>Acadia Parish</td>\n",
       "    </tr>\n",
       "  </tbody>\n",
       "</table>\n",
       "</div>"
      ],
      "text/plain": [
       "     Year  Deaths State       County_y\n",
       "0  2003.0    11.0    LA  Acadia Parish\n",
       "1  2005.0    23.0    LA  Acadia Parish\n",
       "2  2006.0    19.0    LA  Acadia Parish\n",
       "3  2007.0    19.0    LA  Acadia Parish\n",
       "4  2009.0    11.0    LA  Acadia Parish"
      ]
     },
     "execution_count": 15,
     "metadata": {},
     "output_type": "execute_result"
    }
   ],
   "source": [
    "mortality_sub = mortality_sub.merge(d, how='inner', left_index=True, right_index=True)\n",
    "mortality_sub = mortality_sub.drop('County_x', axis=1)\n",
    "mortality_sub.head()"
   ]
  },
  {
   "cell_type": "code",
   "execution_count": 16,
   "metadata": {},
   "outputs": [
    {
     "data": {
      "text/html": [
       "<div>\n",
       "<style scoped>\n",
       "    .dataframe tbody tr th:only-of-type {\n",
       "        vertical-align: middle;\n",
       "    }\n",
       "\n",
       "    .dataframe tbody tr th {\n",
       "        vertical-align: top;\n",
       "    }\n",
       "\n",
       "    .dataframe thead th {\n",
       "        text-align: right;\n",
       "    }\n",
       "</style>\n",
       "<table border=\"1\" class=\"dataframe\">\n",
       "  <thead>\n",
       "    <tr style=\"text-align: right;\">\n",
       "      <th></th>\n",
       "      <th>Year</th>\n",
       "      <th>Deaths</th>\n",
       "      <th>State</th>\n",
       "      <th>County_y</th>\n",
       "    </tr>\n",
       "  </thead>\n",
       "  <tbody>\n",
       "    <tr>\n",
       "      <th>19</th>\n",
       "      <td>2015.0</td>\n",
       "      <td>44.0</td>\n",
       "      <td>ID</td>\n",
       "      <td>Ada County</td>\n",
       "    </tr>\n",
       "    <tr>\n",
       "      <th>32</th>\n",
       "      <td>2015.0</td>\n",
       "      <td>84.0</td>\n",
       "      <td>CO</td>\n",
       "      <td>Adams County</td>\n",
       "    </tr>\n",
       "    <tr>\n",
       "      <th>33</th>\n",
       "      <td>2015.0</td>\n",
       "      <td>14.0</td>\n",
       "      <td>IL</td>\n",
       "      <td>Adams County</td>\n",
       "    </tr>\n",
       "    <tr>\n",
       "      <th>36</th>\n",
       "      <td>2015.0</td>\n",
       "      <td>13.0</td>\n",
       "      <td>OH</td>\n",
       "      <td>Adams County</td>\n",
       "    </tr>\n",
       "    <tr>\n",
       "      <th>51</th>\n",
       "      <td>2015.0</td>\n",
       "      <td>30.0</td>\n",
       "      <td>SC</td>\n",
       "      <td>Aiken County</td>\n",
       "    </tr>\n",
       "    <tr>\n",
       "      <th>...</th>\n",
       "      <td>...</td>\n",
       "      <td>...</td>\n",
       "      <td>...</td>\n",
       "      <td>...</td>\n",
       "    </tr>\n",
       "    <tr>\n",
       "      <th>7870</th>\n",
       "      <td>2015.0</td>\n",
       "      <td>26.0</td>\n",
       "      <td>CA</td>\n",
       "      <td>Yolo County</td>\n",
       "    </tr>\n",
       "    <tr>\n",
       "      <th>7883</th>\n",
       "      <td>2015.0</td>\n",
       "      <td>39.0</td>\n",
       "      <td>ME</td>\n",
       "      <td>York County</td>\n",
       "    </tr>\n",
       "    <tr>\n",
       "      <th>7896</th>\n",
       "      <td>2015.0</td>\n",
       "      <td>84.0</td>\n",
       "      <td>PA</td>\n",
       "      <td>York County</td>\n",
       "    </tr>\n",
       "    <tr>\n",
       "      <th>7909</th>\n",
       "      <td>2015.0</td>\n",
       "      <td>38.0</td>\n",
       "      <td>SC</td>\n",
       "      <td>York County</td>\n",
       "    </tr>\n",
       "    <tr>\n",
       "      <th>7919</th>\n",
       "      <td>2015.0</td>\n",
       "      <td>24.0</td>\n",
       "      <td>AZ</td>\n",
       "      <td>Yuma County</td>\n",
       "    </tr>\n",
       "  </tbody>\n",
       "</table>\n",
       "<p>794 rows × 4 columns</p>\n",
       "</div>"
      ],
      "text/plain": [
       "        Year  Deaths State      County_y\n",
       "19    2015.0    44.0    ID    Ada County\n",
       "32    2015.0    84.0    CO  Adams County\n",
       "33    2015.0    14.0    IL  Adams County\n",
       "36    2015.0    13.0    OH  Adams County\n",
       "51    2015.0    30.0    SC  Aiken County\n",
       "...      ...     ...   ...           ...\n",
       "7870  2015.0    26.0    CA   Yolo County\n",
       "7883  2015.0    39.0    ME   York County\n",
       "7896  2015.0    84.0    PA   York County\n",
       "7909  2015.0    38.0    SC   York County\n",
       "7919  2015.0    24.0    AZ   Yuma County\n",
       "\n",
       "[794 rows x 4 columns]"
      ]
     },
     "execution_count": 16,
     "metadata": {},
     "output_type": "execute_result"
    }
   ],
   "source": [
    "mortality_sub[mortality_sub['Year']==2015.0]"
   ]
  },
  {
   "cell_type": "code",
   "execution_count": 17,
   "metadata": {},
   "outputs": [
    {
     "data": {
      "text/html": [
       "<div>\n",
       "<style scoped>\n",
       "    .dataframe tbody tr th:only-of-type {\n",
       "        vertical-align: middle;\n",
       "    }\n",
       "\n",
       "    .dataframe tbody tr th {\n",
       "        vertical-align: top;\n",
       "    }\n",
       "\n",
       "    .dataframe thead th {\n",
       "        text-align: right;\n",
       "    }\n",
       "</style>\n",
       "<table border=\"1\" class=\"dataframe\">\n",
       "  <thead>\n",
       "    <tr style=\"text-align: right;\">\n",
       "      <th></th>\n",
       "      <th>Year</th>\n",
       "      <th>State</th>\n",
       "      <th>County</th>\n",
       "      <th>Deaths</th>\n",
       "    </tr>\n",
       "  </thead>\n",
       "  <tbody>\n",
       "    <tr>\n",
       "      <th>0</th>\n",
       "      <td>2003.0</td>\n",
       "      <td>LA</td>\n",
       "      <td>Acadia Parish</td>\n",
       "      <td>11.0</td>\n",
       "    </tr>\n",
       "    <tr>\n",
       "      <th>1</th>\n",
       "      <td>2005.0</td>\n",
       "      <td>LA</td>\n",
       "      <td>Acadia Parish</td>\n",
       "      <td>23.0</td>\n",
       "    </tr>\n",
       "    <tr>\n",
       "      <th>2</th>\n",
       "      <td>2006.0</td>\n",
       "      <td>LA</td>\n",
       "      <td>Acadia Parish</td>\n",
       "      <td>19.0</td>\n",
       "    </tr>\n",
       "    <tr>\n",
       "      <th>3</th>\n",
       "      <td>2007.0</td>\n",
       "      <td>LA</td>\n",
       "      <td>Acadia Parish</td>\n",
       "      <td>19.0</td>\n",
       "    </tr>\n",
       "    <tr>\n",
       "      <th>4</th>\n",
       "      <td>2009.0</td>\n",
       "      <td>LA</td>\n",
       "      <td>Acadia Parish</td>\n",
       "      <td>11.0</td>\n",
       "    </tr>\n",
       "  </tbody>\n",
       "</table>\n",
       "</div>"
      ],
      "text/plain": [
       "     Year State         County  Deaths\n",
       "0  2003.0    LA  Acadia Parish    11.0\n",
       "1  2005.0    LA  Acadia Parish    23.0\n",
       "2  2006.0    LA  Acadia Parish    19.0\n",
       "3  2007.0    LA  Acadia Parish    19.0\n",
       "4  2009.0    LA  Acadia Parish    11.0"
      ]
     },
     "execution_count": 17,
     "metadata": {},
     "output_type": "execute_result"
    }
   ],
   "source": [
    "mortality_sub = mortality_sub[['Year', 'State', 'County_y', 'Deaths']]\n",
    "mortality_sub.columns = ['Year', 'State', 'County', 'Deaths']\n",
    "mortality_sub.head()"
   ]
  },
  {
   "cell_type": "code",
   "execution_count": 18,
   "metadata": {},
   "outputs": [
    {
     "data": {
      "text/plain": [
       "dtype('float64')"
      ]
     },
     "execution_count": 18,
     "metadata": {},
     "output_type": "execute_result"
    }
   ],
   "source": [
    "mortality_sub['Year'].dtype"
   ]
  },
  {
   "cell_type": "markdown",
   "metadata": {},
   "source": [
    "### Aggregate to State Level"
   ]
  },
  {
   "cell_type": "code",
   "execution_count": 24,
   "metadata": {},
   "outputs": [
    {
     "data": {
      "text/html": [
       "<div>\n",
       "<style scoped>\n",
       "    .dataframe tbody tr th:only-of-type {\n",
       "        vertical-align: middle;\n",
       "    }\n",
       "\n",
       "    .dataframe tbody tr th {\n",
       "        vertical-align: top;\n",
       "    }\n",
       "\n",
       "    .dataframe thead th {\n",
       "        text-align: right;\n",
       "    }\n",
       "</style>\n",
       "<table border=\"1\" class=\"dataframe\">\n",
       "  <thead>\n",
       "    <tr style=\"text-align: right;\">\n",
       "      <th></th>\n",
       "      <th>Year</th>\n",
       "      <th>State</th>\n",
       "      <th>Deaths</th>\n",
       "    </tr>\n",
       "  </thead>\n",
       "  <tbody>\n",
       "    <tr>\n",
       "      <th>0</th>\n",
       "      <td>2003.0</td>\n",
       "      <td>AK</td>\n",
       "      <td>42.0</td>\n",
       "    </tr>\n",
       "    <tr>\n",
       "      <th>1</th>\n",
       "      <td>2003.0</td>\n",
       "      <td>AL</td>\n",
       "      <td>105.0</td>\n",
       "    </tr>\n",
       "    <tr>\n",
       "      <th>2</th>\n",
       "      <td>2003.0</td>\n",
       "      <td>AR</td>\n",
       "      <td>18.0</td>\n",
       "    </tr>\n",
       "    <tr>\n",
       "      <th>3</th>\n",
       "      <td>2003.0</td>\n",
       "      <td>AZ</td>\n",
       "      <td>640.0</td>\n",
       "    </tr>\n",
       "    <tr>\n",
       "      <th>4</th>\n",
       "      <td>2003.0</td>\n",
       "      <td>CA</td>\n",
       "      <td>3241.0</td>\n",
       "    </tr>\n",
       "  </tbody>\n",
       "</table>\n",
       "</div>"
      ],
      "text/plain": [
       "     Year State  Deaths\n",
       "0  2003.0    AK    42.0\n",
       "1  2003.0    AL   105.0\n",
       "2  2003.0    AR    18.0\n",
       "3  2003.0    AZ   640.0\n",
       "4  2003.0    CA  3241.0"
      ]
     },
     "execution_count": 24,
     "metadata": {},
     "output_type": "execute_result"
    }
   ],
   "source": [
    "mortality_sub_group = mortality_sub[['Year','State', 'Deaths']]\n",
    "mortality_state = mortality_sub_group.groupby(['Year', 'State'], as_index=False).sum()\n",
    "mortality_state.head()"
   ]
  },
  {
   "cell_type": "markdown",
   "metadata": {},
   "source": [
    "### Drop Alaska as per requirements"
   ]
  },
  {
   "cell_type": "code",
   "execution_count": 33,
   "metadata": {},
   "outputs": [
    {
     "data": {
      "text/html": [
       "<div>\n",
       "<style scoped>\n",
       "    .dataframe tbody tr th:only-of-type {\n",
       "        vertical-align: middle;\n",
       "    }\n",
       "\n",
       "    .dataframe tbody tr th {\n",
       "        vertical-align: top;\n",
       "    }\n",
       "\n",
       "    .dataframe thead th {\n",
       "        text-align: right;\n",
       "    }\n",
       "</style>\n",
       "<table border=\"1\" class=\"dataframe\">\n",
       "  <thead>\n",
       "    <tr style=\"text-align: right;\">\n",
       "      <th></th>\n",
       "      <th>Year</th>\n",
       "      <th>State</th>\n",
       "      <th>Deaths</th>\n",
       "    </tr>\n",
       "  </thead>\n",
       "  <tbody>\n",
       "    <tr>\n",
       "      <th>0</th>\n",
       "      <td>2003.0</td>\n",
       "      <td>AK</td>\n",
       "      <td>42.0</td>\n",
       "    </tr>\n",
       "    <tr>\n",
       "      <th>2</th>\n",
       "      <td>2003.0</td>\n",
       "      <td>AR</td>\n",
       "      <td>18.0</td>\n",
       "    </tr>\n",
       "    <tr>\n",
       "      <th>3</th>\n",
       "      <td>2003.0</td>\n",
       "      <td>AZ</td>\n",
       "      <td>640.0</td>\n",
       "    </tr>\n",
       "    <tr>\n",
       "      <th>4</th>\n",
       "      <td>2003.0</td>\n",
       "      <td>CA</td>\n",
       "      <td>3241.0</td>\n",
       "    </tr>\n",
       "    <tr>\n",
       "      <th>5</th>\n",
       "      <td>2003.0</td>\n",
       "      <td>CO</td>\n",
       "      <td>361.0</td>\n",
       "    </tr>\n",
       "  </tbody>\n",
       "</table>\n",
       "</div>"
      ],
      "text/plain": [
       "     Year State  Deaths\n",
       "0  2003.0    AK    42.0\n",
       "2  2003.0    AR    18.0\n",
       "3  2003.0    AZ   640.0\n",
       "4  2003.0    CA  3241.0\n",
       "5  2003.0    CO   361.0"
      ]
     },
     "execution_count": 33,
     "metadata": {},
     "output_type": "execute_result"
    }
   ],
   "source": [
    "mortality_state = mortality_state[mortality_state['State'] != 'AL']\n",
    "mortality_state.head()"
   ]
  },
  {
   "cell_type": "markdown",
   "metadata": {},
   "source": [
    "### Output data to csv"
   ]
  },
  {
   "cell_type": "code",
   "execution_count": 34,
   "metadata": {},
   "outputs": [],
   "source": [
    "mortality_state.to_csv('../20_intermediate_files/mortality.csv')"
   ]
  },
  {
   "cell_type": "markdown",
   "metadata": {},
   "source": [
    "### Plot Data to find similar trends"
   ]
  },
  {
   "cell_type": "code",
   "execution_count": null,
   "metadata": {},
   "outputs": [],
   "source": []
  },
  {
   "cell_type": "code",
   "execution_count": null,
   "metadata": {},
   "outputs": [],
   "source": []
  },
  {
   "cell_type": "code",
   "execution_count": null,
   "metadata": {},
   "outputs": [],
   "source": []
  },
  {
   "cell_type": "code",
   "execution_count": null,
   "metadata": {},
   "outputs": [],
   "source": []
  }
 ],
 "metadata": {
  "kernelspec": {
   "display_name": "Python 3",
   "language": "python",
   "name": "python3"
  },
  "language_info": {
   "codemirror_mode": {
    "name": "ipython",
    "version": 3
   },
   "file_extension": ".py",
   "mimetype": "text/x-python",
   "name": "python",
   "nbconvert_exporter": "python",
   "pygments_lexer": "ipython3",
   "version": "3.8.3"
  }
 },
 "nbformat": 4,
 "nbformat_minor": 4
}
