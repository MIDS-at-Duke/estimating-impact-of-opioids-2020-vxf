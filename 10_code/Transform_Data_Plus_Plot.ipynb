{
 "cells": [
  {
   "cell_type": "code",
   "execution_count": 538,
   "metadata": {},
   "outputs": [],
   "source": [
    "import pandas as pd\n",
    "import numpy as np\n",
    "from plotnine import *\n",
    "pd.set_option('display.max_columns', None)"
   ]
  },
  {
   "cell_type": "markdown",
   "metadata": {},
   "source": [
    "### Notes:"
   ]
  },
  {
   "cell_type": "markdown",
   "metadata": {},
   "source": [
    "1. Some counties are having a mismatch in names. Need to manually resolve the name mismatch. Only with Opioid Shipment dataset. "
   ]
  },
  {
   "cell_type": "markdown",
   "metadata": {},
   "source": [
    "##### Final Report Structure\n",
    "\n",
    "1. Intro - High Level <br>\n",
    "2. Background - High Level <br>\n",
    "3. EDA - Below<br>\n",
    "4. Model ?? <br>\n",
    "5. Results Findings on the diff-diff and pre-post plots. <br>\n",
    "6. Conclusion Policy implementation effects summary <br>\n",
    "\n",
    "For EDA, we can plot mortality rate and analyze trends across counties in target states. <br>\n",
    "For EDA, we can also plot opioid shipment and analyze trends across counties in target states.\n",
    "\n",
    "##### Open Questions\n",
    "1. Do we need to create 2 drafts?\n",
    "2. Do we need to merge opioid shipment data with drug mortality data."
   ]
  },
  {
   "cell_type": "markdown",
   "metadata": {},
   "source": [
    "### Import Mortality Dataset"
   ]
  },
  {
   "cell_type": "code",
   "execution_count": 551,
   "metadata": {},
   "outputs": [],
   "source": [
    "mortality = pd.read_csv('../20_intermediate_files/mortality_non_aggregated.csv')\n",
    "mortality = mortality.drop('Unnamed: 0', axis =1)"
   ]
  },
  {
   "cell_type": "code",
   "execution_count": 552,
   "metadata": {},
   "outputs": [],
   "source": [
    "mortality.loc[mortality['State'] == 'AL', 'STATE'] = 'Alabama'\n",
    "mortality.loc[mortality['State'] == 'FL', 'STATE'] = 'Florida'\n",
    "mortality.loc[mortality['State'] == 'SC', 'STATE'] = 'South Carolina'\n",
    "mortality.loc[mortality['State'] == 'GA', 'STATE'] = 'Georgia'\n",
    "mortality.loc[mortality['State'] == 'TX', 'STATE'] = 'Texas'\n",
    "mortality.loc[mortality['State'] == 'OK', 'STATE'] = 'Oklahoma'\n",
    "mortality.loc[mortality['State'] == 'WA', 'STATE'] = 'Washington'\n",
    "mortality.loc[mortality['State'] == 'NC', 'STATE'] = 'North Carolina'\n",
    "mortality.loc[mortality['State'] == 'CO', 'STATE'] = 'Colorado'\n",
    "mortality.loc[mortality['State'] == 'AZ', 'STATE'] = 'Arizona'\n",
    "mortality.loc[mortality['State'] == 'CA', 'STATE'] = 'California'\n",
    "mortality.loc[mortality['State'] == 'UT', 'STATE'] = 'Utah'\n",
    "\n",
    "StateL = ['Florida', 'Alabama', 'South Carolina', 'Georgia', 'Texas', 'Arizona', \n",
    "          'California', 'Oklahoma','Washington','North Carolina','Utah','Colorado']\n"
   ]
  },
  {
   "cell_type": "code",
   "execution_count": 553,
   "metadata": {},
   "outputs": [],
   "source": [
    "mortality = mortality[mortality['STATE'].isin(StateL)]\n",
    "mortality.columns = ['YEAR', 'State_Abrv', 'COUNTY', 'DEATHS', 'STATE']\n",
    "mortality['YEAR'] = mortality['YEAR'].astype(int)"
   ]
  },
  {
   "cell_type": "code",
   "execution_count": 554,
   "metadata": {},
   "outputs": [
    {
     "data": {
      "text/html": [
       "<div>\n",
       "<style scoped>\n",
       "    .dataframe tbody tr th:only-of-type {\n",
       "        vertical-align: middle;\n",
       "    }\n",
       "\n",
       "    .dataframe tbody tr th {\n",
       "        vertical-align: top;\n",
       "    }\n",
       "\n",
       "    .dataframe thead th {\n",
       "        text-align: right;\n",
       "    }\n",
       "</style>\n",
       "<table border=\"1\" class=\"dataframe\">\n",
       "  <thead>\n",
       "    <tr style=\"text-align: right;\">\n",
       "      <th></th>\n",
       "      <th>YEAR</th>\n",
       "      <th>State_Abrv</th>\n",
       "      <th>COUNTY</th>\n",
       "      <th>DEATHS</th>\n",
       "      <th>STATE</th>\n",
       "    </tr>\n",
       "  </thead>\n",
       "  <tbody>\n",
       "    <tr>\n",
       "      <th>20</th>\n",
       "      <td>2003</td>\n",
       "      <td>CO</td>\n",
       "      <td>Adams County</td>\n",
       "      <td>42.0</td>\n",
       "      <td>Colorado</td>\n",
       "    </tr>\n",
       "    <tr>\n",
       "      <th>21</th>\n",
       "      <td>2004</td>\n",
       "      <td>CO</td>\n",
       "      <td>Adams County</td>\n",
       "      <td>46.0</td>\n",
       "      <td>Colorado</td>\n",
       "    </tr>\n",
       "    <tr>\n",
       "      <th>22</th>\n",
       "      <td>2005</td>\n",
       "      <td>CO</td>\n",
       "      <td>Adams County</td>\n",
       "      <td>63.0</td>\n",
       "      <td>Colorado</td>\n",
       "    </tr>\n",
       "    <tr>\n",
       "      <th>23</th>\n",
       "      <td>2006</td>\n",
       "      <td>CO</td>\n",
       "      <td>Adams County</td>\n",
       "      <td>62.0</td>\n",
       "      <td>Colorado</td>\n",
       "    </tr>\n",
       "    <tr>\n",
       "      <th>24</th>\n",
       "      <td>2007</td>\n",
       "      <td>CO</td>\n",
       "      <td>Adams County</td>\n",
       "      <td>70.0</td>\n",
       "      <td>Colorado</td>\n",
       "    </tr>\n",
       "  </tbody>\n",
       "</table>\n",
       "</div>"
      ],
      "text/plain": [
       "    YEAR State_Abrv        COUNTY  DEATHS     STATE\n",
       "20  2003         CO  Adams County    42.0  Colorado\n",
       "21  2004         CO  Adams County    46.0  Colorado\n",
       "22  2005         CO  Adams County    63.0  Colorado\n",
       "23  2006         CO  Adams County    62.0  Colorado\n",
       "24  2007         CO  Adams County    70.0  Colorado"
      ]
     },
     "execution_count": 554,
     "metadata": {},
     "output_type": "execute_result"
    }
   ],
   "source": [
    "mortality.head()"
   ]
  },
  {
   "cell_type": "markdown",
   "metadata": {},
   "source": [
    "### Import Population Dataset"
   ]
  },
  {
   "cell_type": "code",
   "execution_count": 555,
   "metadata": {},
   "outputs": [],
   "source": [
    "pop_2000_to_2010 = pd.read_csv('../00_source/co-est00int-tot.csv', encoding='latin-1')\n",
    "pop_2000_to_2010 = pop_2000_to_2010[['STNAME', 'CTYNAME',\n",
    "                                    'POPESTIMATE2000', 'POPESTIMATE2001', 'POPESTIMATE2002',\n",
    "                                    'POPESTIMATE2003', 'POPESTIMATE2004', 'POPESTIMATE2005',\n",
    "                                    'POPESTIMATE2006', 'POPESTIMATE2007', 'POPESTIMATE2008',\n",
    "                                    'POPESTIMATE2009', 'POPESTIMATE2010']]"
   ]
  },
  {
   "cell_type": "code",
   "execution_count": 556,
   "metadata": {},
   "outputs": [],
   "source": [
    "pop_2000_to_2010 = pop_2000_to_2010.melt(id_vars=['STNAME', 'CTYNAME'])\n",
    "pop_2000_to_2010.columns = ['STATE', 'COUNTY', 'YEAR', 'TOTAL_POP']\n",
    "pop_2000_to_2010['YEAR'] = [x[-4:] for x in pop_2000_to_2010['YEAR'].tolist()]"
   ]
  },
  {
   "cell_type": "code",
   "execution_count": 557,
   "metadata": {},
   "outputs": [],
   "source": [
    "pop_2010_to_2019 = pd.read_csv('../00_source/co-est2019-alldata.csv', encoding='latin-1')\n",
    "pop_2010_to_2019 = pop_2010_to_2019[['STNAME', 'CTYNAME', 'POPESTIMATE2011',\n",
    "                                    'POPESTIMATE2012', 'POPESTIMATE2013', 'POPESTIMATE2014',\n",
    "                                    'POPESTIMATE2015', 'POPESTIMATE2016', 'POPESTIMATE2017',\n",
    "                                    'POPESTIMATE2018', 'POPESTIMATE2019']]"
   ]
  },
  {
   "cell_type": "code",
   "execution_count": 558,
   "metadata": {},
   "outputs": [],
   "source": [
    "pop_2010_to_2019 = pop_2010_to_2019.melt(id_vars=['STNAME', 'CTYNAME'])\n",
    "pop_2010_to_2019.columns = ['STATE', 'COUNTY', 'YEAR', 'TOTAL_POP']\n",
    "pop_2010_to_2019['YEAR'] = [x[-4:] for x in pop_2010_to_2019['YEAR'].tolist()]"
   ]
  },
  {
   "cell_type": "code",
   "execution_count": 559,
   "metadata": {},
   "outputs": [],
   "source": [
    "pop_df = pop_2000_to_2010.append(pop_2010_to_2019)\n",
    "pop_df = pop_df.sort_values(['YEAR', 'STATE', 'COUNTY'])\n",
    "pop_df = pop_df.reset_index(drop=True)\n",
    "pop_df['YEAR'] = pop_df['YEAR'].astype(int)"
   ]
  },
  {
   "cell_type": "code",
   "execution_count": 560,
   "metadata": {},
   "outputs": [],
   "source": [
    "pop_df['COUNTY_Abrv'] = [x[:-7] for x in pop_df['COUNTY']]\n",
    "pop_df['COUNTY_Abrv'] = pop_df['COUNTY_Abrv'].str.upper()"
   ]
  },
  {
   "cell_type": "code",
   "execution_count": 561,
   "metadata": {},
   "outputs": [
    {
     "data": {
      "text/html": [
       "<div>\n",
       "<style scoped>\n",
       "    .dataframe tbody tr th:only-of-type {\n",
       "        vertical-align: middle;\n",
       "    }\n",
       "\n",
       "    .dataframe tbody tr th {\n",
       "        vertical-align: top;\n",
       "    }\n",
       "\n",
       "    .dataframe thead th {\n",
       "        text-align: right;\n",
       "    }\n",
       "</style>\n",
       "<table border=\"1\" class=\"dataframe\">\n",
       "  <thead>\n",
       "    <tr style=\"text-align: right;\">\n",
       "      <th></th>\n",
       "      <th>STATE</th>\n",
       "      <th>COUNTY</th>\n",
       "      <th>YEAR</th>\n",
       "      <th>TOTAL_POP</th>\n",
       "      <th>COUNTY_Abrv</th>\n",
       "    </tr>\n",
       "  </thead>\n",
       "  <tbody>\n",
       "    <tr>\n",
       "      <th>0</th>\n",
       "      <td>Alabama</td>\n",
       "      <td>Alabama</td>\n",
       "      <td>2000</td>\n",
       "      <td>4452173</td>\n",
       "      <td></td>\n",
       "    </tr>\n",
       "    <tr>\n",
       "      <th>1</th>\n",
       "      <td>Alabama</td>\n",
       "      <td>Autauga County</td>\n",
       "      <td>2000</td>\n",
       "      <td>44021</td>\n",
       "      <td>AUTAUGA</td>\n",
       "    </tr>\n",
       "    <tr>\n",
       "      <th>2</th>\n",
       "      <td>Alabama</td>\n",
       "      <td>Baldwin County</td>\n",
       "      <td>2000</td>\n",
       "      <td>141342</td>\n",
       "      <td>BALDWIN</td>\n",
       "    </tr>\n",
       "    <tr>\n",
       "      <th>3</th>\n",
       "      <td>Alabama</td>\n",
       "      <td>Barbour County</td>\n",
       "      <td>2000</td>\n",
       "      <td>29015</td>\n",
       "      <td>BARBOUR</td>\n",
       "    </tr>\n",
       "    <tr>\n",
       "      <th>4</th>\n",
       "      <td>Alabama</td>\n",
       "      <td>Bibb County</td>\n",
       "      <td>2000</td>\n",
       "      <td>19913</td>\n",
       "      <td>BIBB</td>\n",
       "    </tr>\n",
       "  </tbody>\n",
       "</table>\n",
       "</div>"
      ],
      "text/plain": [
       "     STATE          COUNTY  YEAR  TOTAL_POP COUNTY_Abrv\n",
       "0  Alabama         Alabama  2000    4452173            \n",
       "1  Alabama  Autauga County  2000      44021     AUTAUGA\n",
       "2  Alabama  Baldwin County  2000     141342     BALDWIN\n",
       "3  Alabama  Barbour County  2000      29015     BARBOUR\n",
       "4  Alabama     Bibb County  2000      19913        BIBB"
      ]
     },
     "execution_count": 561,
     "metadata": {},
     "output_type": "execute_result"
    }
   ],
   "source": [
    "pop_df.head()"
   ]
  },
  {
   "cell_type": "markdown",
   "metadata": {},
   "source": [
    "### Merging Mortality Rate and Population Dataset"
   ]
  },
  {
   "cell_type": "code",
   "execution_count": 562,
   "metadata": {},
   "outputs": [],
   "source": [
    "merge_cols = ['YEAR', 'STATE','COUNTY']\n",
    "mor_pop = pd.merge(mortality,pop_df, how='inner', on=merge_cols)\n",
    "mor_pop = mor_pop[['YEAR', 'STATE', 'State_Abrv', 'COUNTY', 'DEATHS', 'TOTAL_POP']]"
   ]
  },
  {
   "cell_type": "code",
   "execution_count": 568,
   "metadata": {},
   "outputs": [],
   "source": [
    "mor_pop['COUNTY'] = mor_pop['COUNTY'].str.upper()\n",
    "mor_pop['COUNTY_Abrv'] = [x[:-7] for x in mor_pop['COUNTY'].tolist()]"
   ]
  },
  {
   "cell_type": "markdown",
   "metadata": {},
   "source": [
    "### Calculate Mortality/Deaths Per Capita"
   ]
  },
  {
   "cell_type": "code",
   "execution_count": 569,
   "metadata": {},
   "outputs": [],
   "source": [
    "mor_pop['Deaths_Per_Cap'] = mor_pop['DEATHS'] / mor_pop['TOTAL_POP']"
   ]
  },
  {
   "cell_type": "code",
   "execution_count": 570,
   "metadata": {},
   "outputs": [
    {
     "data": {
      "text/plain": [
       "California        489\n",
       "Florida           458\n",
       "Texas             432\n",
       "North Carolina    428\n",
       "Georgia           308\n",
       "Washington        198\n",
       "South Carolina    183\n",
       "Alabama           166\n",
       "Oklahoma          141\n",
       "Colorado          132\n",
       "Arizona           106\n",
       "Utah               66\n",
       "Name: STATE, dtype: int64"
      ]
     },
     "execution_count": 570,
     "metadata": {},
     "output_type": "execute_result"
    }
   ],
   "source": [
    "mor_pop.STATE.value_counts()"
   ]
  },
  {
   "cell_type": "code",
   "execution_count": 571,
   "metadata": {},
   "outputs": [],
   "source": [
    "treatment_list = ['FL', 'WA', 'TX']\n",
    "mor_pop['treatment_status'] = 'Control'\n",
    "mor_pop.loc[mor_pop['State_Abrv'].isin(treatment_list), 'treatment_status'] = 'Treatment'\n",
    "mor_pop['treatment_status'] = pd.Categorical(mor_pop['treatment_status'])"
   ]
  },
  {
   "cell_type": "code",
   "execution_count": 572,
   "metadata": {},
   "outputs": [
    {
     "data": {
      "text/html": [
       "<div>\n",
       "<style scoped>\n",
       "    .dataframe tbody tr th:only-of-type {\n",
       "        vertical-align: middle;\n",
       "    }\n",
       "\n",
       "    .dataframe tbody tr th {\n",
       "        vertical-align: top;\n",
       "    }\n",
       "\n",
       "    .dataframe thead th {\n",
       "        text-align: right;\n",
       "    }\n",
       "</style>\n",
       "<table border=\"1\" class=\"dataframe\">\n",
       "  <thead>\n",
       "    <tr style=\"text-align: right;\">\n",
       "      <th></th>\n",
       "      <th>YEAR</th>\n",
       "      <th>STATE</th>\n",
       "      <th>State_Abrv</th>\n",
       "      <th>COUNTY</th>\n",
       "      <th>DEATHS</th>\n",
       "      <th>TOTAL_POP</th>\n",
       "      <th>COUNTY_Abrv</th>\n",
       "      <th>Deaths_Per_Cap</th>\n",
       "      <th>treatment_status</th>\n",
       "    </tr>\n",
       "  </thead>\n",
       "  <tbody>\n",
       "    <tr>\n",
       "      <th>0</th>\n",
       "      <td>2003</td>\n",
       "      <td>Colorado</td>\n",
       "      <td>CO</td>\n",
       "      <td>ADAMS COUNTY</td>\n",
       "      <td>42.0</td>\n",
       "      <td>377464</td>\n",
       "      <td>ADAMS</td>\n",
       "      <td>0.000111</td>\n",
       "      <td>Control</td>\n",
       "    </tr>\n",
       "    <tr>\n",
       "      <th>1</th>\n",
       "      <td>2004</td>\n",
       "      <td>Colorado</td>\n",
       "      <td>CO</td>\n",
       "      <td>ADAMS COUNTY</td>\n",
       "      <td>46.0</td>\n",
       "      <td>384809</td>\n",
       "      <td>ADAMS</td>\n",
       "      <td>0.000120</td>\n",
       "      <td>Control</td>\n",
       "    </tr>\n",
       "    <tr>\n",
       "      <th>2</th>\n",
       "      <td>2005</td>\n",
       "      <td>Colorado</td>\n",
       "      <td>CO</td>\n",
       "      <td>ADAMS COUNTY</td>\n",
       "      <td>63.0</td>\n",
       "      <td>395146</td>\n",
       "      <td>ADAMS</td>\n",
       "      <td>0.000159</td>\n",
       "      <td>Control</td>\n",
       "    </tr>\n",
       "    <tr>\n",
       "      <th>3</th>\n",
       "      <td>2006</td>\n",
       "      <td>Colorado</td>\n",
       "      <td>CO</td>\n",
       "      <td>ADAMS COUNTY</td>\n",
       "      <td>62.0</td>\n",
       "      <td>406575</td>\n",
       "      <td>ADAMS</td>\n",
       "      <td>0.000152</td>\n",
       "      <td>Control</td>\n",
       "    </tr>\n",
       "    <tr>\n",
       "      <th>4</th>\n",
       "      <td>2007</td>\n",
       "      <td>Colorado</td>\n",
       "      <td>CO</td>\n",
       "      <td>ADAMS COUNTY</td>\n",
       "      <td>70.0</td>\n",
       "      <td>415746</td>\n",
       "      <td>ADAMS</td>\n",
       "      <td>0.000168</td>\n",
       "      <td>Control</td>\n",
       "    </tr>\n",
       "  </tbody>\n",
       "</table>\n",
       "</div>"
      ],
      "text/plain": [
       "   YEAR     STATE State_Abrv        COUNTY  DEATHS  TOTAL_POP COUNTY_Abrv  \\\n",
       "0  2003  Colorado         CO  ADAMS COUNTY    42.0     377464       ADAMS   \n",
       "1  2004  Colorado         CO  ADAMS COUNTY    46.0     384809       ADAMS   \n",
       "2  2005  Colorado         CO  ADAMS COUNTY    63.0     395146       ADAMS   \n",
       "3  2006  Colorado         CO  ADAMS COUNTY    62.0     406575       ADAMS   \n",
       "4  2007  Colorado         CO  ADAMS COUNTY    70.0     415746       ADAMS   \n",
       "\n",
       "   Deaths_Per_Cap treatment_status  \n",
       "0        0.000111          Control  \n",
       "1        0.000120          Control  \n",
       "2        0.000159          Control  \n",
       "3        0.000152          Control  \n",
       "4        0.000168          Control  "
      ]
     },
     "execution_count": 572,
     "metadata": {},
     "output_type": "execute_result"
    }
   ],
   "source": [
    "mor_pop.head()"
   ]
  },
  {
   "cell_type": "code",
   "execution_count": 573,
   "metadata": {},
   "outputs": [
    {
     "data": {
      "text/plain": [
       "(3107, 9)"
      ]
     },
     "execution_count": 573,
     "metadata": {},
     "output_type": "execute_result"
    }
   ],
   "source": [
    "mor_pop.shape"
   ]
  },
  {
   "cell_type": "markdown",
   "metadata": {},
   "source": [
    "# Opioid Shipment Analysis"
   ]
  },
  {
   "cell_type": "markdown",
   "metadata": {},
   "source": [
    "### Note: \n",
    "This part only needs to be run once. The data has been extracted to a csv file for later steps"
   ]
  },
  {
   "cell_type": "markdown",
   "metadata": {},
   "source": [
    "### Load Opioid Shipment Data"
   ]
  },
  {
   "cell_type": "code",
   "execution_count": 582,
   "metadata": {},
   "outputs": [],
   "source": [
    "opioid_df = pd.read_csv('../00_source/opioid_chunked_source.zip')"
   ]
  },
  {
   "cell_type": "code",
   "execution_count": 583,
   "metadata": {},
   "outputs": [],
   "source": [
    "opioid_df['Year'] = [str(x)[-4:] for x in opioid_df['TRANSACTION_DATE'].tolist()]\n",
    "opioid_df['Year'] = opioid_df['Year'].astype(int)\n",
    "opioid_df = opioid_df.drop(['TRANSACTION_DATE','Unnamed: 0','BUYER_CITY'], axis =1)\n",
    "opioid_df ['DRUG_TOTAL'] = opioid_df.MME_Conversion_Factor * opioid_df.Weight_gram * 1000"
   ]
  },
  {
   "cell_type": "code",
   "execution_count": 584,
   "metadata": {},
   "outputs": [],
   "source": [
    "opioid_df.columns = ['STATE', 'COUNTY', 'DRUG_NAME', 'MME_CONVERSION_FACTOR', 'WEIGHT_GRAM', 'YEAR', 'MME_SHIPPED']\n",
    "opioid_df = opioid_df[['YEAR', 'STATE', 'COUNTY', 'MME_SHIPPED']]\n",
    "opioid_df = opioid_df.groupby(['YEAR', 'STATE', 'COUNTY'], as_index = False).sum()"
   ]
  },
  {
   "cell_type": "code",
   "execution_count": 588,
   "metadata": {},
   "outputs": [],
   "source": [
    "opioid_df.columns = ['YEAR', 'State_Abrv', 'COUNTY_Abrv', 'MME_SHIPPED']\n",
    "\n",
    "opioid_df.loc[opioid_df['State_Abrv'] == 'FL', 'STATE'] = 'Florida'\n",
    "opioid_df.loc[opioid_df['State_Abrv'] == 'AL', 'STATE'] = 'Alabama'\n",
    "opioid_df.loc[opioid_df['State_Abrv'] == 'SC', 'STATE'] = 'South Carolina'\n",
    "opioid_df.loc[opioid_df['State_Abrv'] == 'GA', 'STATE'] = 'Georgia'\n",
    "opioid_df.loc[opioid_df['State_Abrv'] == 'TX', 'STATE'] = 'Texas'\n",
    "opioid_df.loc[opioid_df['State_Abrv'] == 'AZ', 'STATE'] = 'Arizona'\n",
    "opioid_df.loc[opioid_df['State_Abrv'] == 'CA', 'STATE'] = 'California'\n",
    "opioid_df.loc[opioid_df['State_Abrv'] == 'OK', 'STATE'] = 'Oklahoma'\n",
    "opioid_df.loc[opioid_df['State_Abrv'] == 'WA', 'STATE'] = 'Washington'\n",
    "opioid_df.loc[opioid_df['State_Abrv'] == 'NC', 'STATE'] = 'North Carolina'\n",
    "opioid_df.loc[opioid_df['State_Abrv'] == 'UT', 'STATE'] = 'Utah'\n",
    "opioid_df.loc[opioid_df['State_Abrv'] == 'CO', 'STATE'] = 'Colorado'"
   ]
  },
  {
   "cell_type": "code",
   "execution_count": 589,
   "metadata": {},
   "outputs": [],
   "source": [
    "treatment_list = ['FL', 'WA', 'TX']\n",
    "opioid_df['treatment_status'] = 'Control'\n",
    "opioid_df.loc[opioid_df['State_Abrv'].isin(treatment_list), 'treatment_status'] = 'Treatment'\n",
    "opioid_df['treatment_status'] = pd.Categorical(opioid_df['treatment_status'])"
   ]
  },
  {
   "cell_type": "code",
   "execution_count": 590,
   "metadata": {},
   "outputs": [
    {
     "data": {
      "text/html": [
       "<div>\n",
       "<style scoped>\n",
       "    .dataframe tbody tr th:only-of-type {\n",
       "        vertical-align: middle;\n",
       "    }\n",
       "\n",
       "    .dataframe tbody tr th {\n",
       "        vertical-align: top;\n",
       "    }\n",
       "\n",
       "    .dataframe thead th {\n",
       "        text-align: right;\n",
       "    }\n",
       "</style>\n",
       "<table border=\"1\" class=\"dataframe\">\n",
       "  <thead>\n",
       "    <tr style=\"text-align: right;\">\n",
       "      <th></th>\n",
       "      <th>YEAR</th>\n",
       "      <th>State_Abrv</th>\n",
       "      <th>COUNTY_Abrv</th>\n",
       "      <th>MME_SHIPPED</th>\n",
       "      <th>STATE</th>\n",
       "      <th>treatment_status</th>\n",
       "    </tr>\n",
       "  </thead>\n",
       "  <tbody>\n",
       "    <tr>\n",
       "      <th>0</th>\n",
       "      <td>2006</td>\n",
       "      <td>AL</td>\n",
       "      <td>AUTAUGA</td>\n",
       "      <td>1.710054e+07</td>\n",
       "      <td>Alabama</td>\n",
       "      <td>Control</td>\n",
       "    </tr>\n",
       "    <tr>\n",
       "      <th>1</th>\n",
       "      <td>2006</td>\n",
       "      <td>AL</td>\n",
       "      <td>BALDWIN</td>\n",
       "      <td>5.103983e+07</td>\n",
       "      <td>Alabama</td>\n",
       "      <td>Control</td>\n",
       "    </tr>\n",
       "    <tr>\n",
       "      <th>2</th>\n",
       "      <td>2006</td>\n",
       "      <td>AL</td>\n",
       "      <td>BARBOUR</td>\n",
       "      <td>5.764019e+06</td>\n",
       "      <td>Alabama</td>\n",
       "      <td>Control</td>\n",
       "    </tr>\n",
       "    <tr>\n",
       "      <th>3</th>\n",
       "      <td>2006</td>\n",
       "      <td>AL</td>\n",
       "      <td>BIBB</td>\n",
       "      <td>6.278097e+06</td>\n",
       "      <td>Alabama</td>\n",
       "      <td>Control</td>\n",
       "    </tr>\n",
       "    <tr>\n",
       "      <th>4</th>\n",
       "      <td>2006</td>\n",
       "      <td>AL</td>\n",
       "      <td>BLOUNT</td>\n",
       "      <td>1.041747e+07</td>\n",
       "      <td>Alabama</td>\n",
       "      <td>Control</td>\n",
       "    </tr>\n",
       "  </tbody>\n",
       "</table>\n",
       "</div>"
      ],
      "text/plain": [
       "   YEAR State_Abrv COUNTY_Abrv   MME_SHIPPED    STATE treatment_status\n",
       "0  2006         AL     AUTAUGA  1.710054e+07  Alabama          Control\n",
       "1  2006         AL     BALDWIN  5.103983e+07  Alabama          Control\n",
       "2  2006         AL     BARBOUR  5.764019e+06  Alabama          Control\n",
       "3  2006         AL        BIBB  6.278097e+06  Alabama          Control\n",
       "4  2006         AL      BLOUNT  1.041747e+07  Alabama          Control"
      ]
     },
     "execution_count": 590,
     "metadata": {},
     "output_type": "execute_result"
    }
   ],
   "source": [
    "opioid_df.head()"
   ]
  },
  {
   "cell_type": "code",
   "execution_count": 592,
   "metadata": {},
   "outputs": [],
   "source": [
    "opioid_df.to_csv('../20_intermediate_files/opioid_shipment_extract.csv')"
   ]
  },
  {
   "cell_type": "markdown",
   "metadata": {},
   "source": [
    "### Subset to Florida and its Reference States (for now)"
   ]
  },
  {
   "cell_type": "code",
   "execution_count": 599,
   "metadata": {},
   "outputs": [],
   "source": [
    "opioid_df = pd.read_csv('../20_intermediate_files/opioid_shipment_extract.csv')\n",
    "opioid_df = opioid_df.drop('Unnamed: 0', axis=1)"
   ]
  },
  {
   "cell_type": "code",
   "execution_count": 600,
   "metadata": {},
   "outputs": [],
   "source": [
    "opioid_df = opioid_df[opioid_df['State_Abrv'].isin(['FL', 'AL', 'SC', 'GA'])]"
   ]
  },
  {
   "cell_type": "markdown",
   "metadata": {},
   "source": [
    "### Merge Opioid Shipment data with Population data"
   ]
  },
  {
   "cell_type": "code",
   "execution_count": 601,
   "metadata": {},
   "outputs": [],
   "source": [
    "merge_list = ['YEAR', 'STATE', 'COUNTY_Abrv']\n",
    "op_pop = pd.merge(opioid_df, pop_df, how='inner', indicator = True, on=merge_list)"
   ]
  },
  {
   "cell_type": "code",
   "execution_count": 602,
   "metadata": {},
   "outputs": [
    {
     "data": {
      "text/plain": [
       "(2320, 6)"
      ]
     },
     "execution_count": 602,
     "metadata": {},
     "output_type": "execute_result"
    }
   ],
   "source": [
    "opioid_df.shape"
   ]
  },
  {
   "cell_type": "code",
   "execution_count": 603,
   "metadata": {},
   "outputs": [
    {
     "data": {
      "text/plain": [
       "(2285, 9)"
      ]
     },
     "execution_count": 603,
     "metadata": {},
     "output_type": "execute_result"
    }
   ],
   "source": [
    "op_pop.shape"
   ]
  },
  {
   "cell_type": "code",
   "execution_count": 604,
   "metadata": {},
   "outputs": [
    {
     "data": {
      "text/html": [
       "<div>\n",
       "<style scoped>\n",
       "    .dataframe tbody tr th:only-of-type {\n",
       "        vertical-align: middle;\n",
       "    }\n",
       "\n",
       "    .dataframe tbody tr th {\n",
       "        vertical-align: top;\n",
       "    }\n",
       "\n",
       "    .dataframe thead th {\n",
       "        text-align: right;\n",
       "    }\n",
       "</style>\n",
       "<table border=\"1\" class=\"dataframe\">\n",
       "  <thead>\n",
       "    <tr style=\"text-align: right;\">\n",
       "      <th></th>\n",
       "      <th>YEAR</th>\n",
       "      <th>State_Abrv</th>\n",
       "      <th>COUNTY_Abrv</th>\n",
       "      <th>MME_SHIPPED</th>\n",
       "      <th>STATE</th>\n",
       "      <th>treatment_status</th>\n",
       "      <th>COUNTY</th>\n",
       "      <th>TOTAL_POP</th>\n",
       "      <th>_merge</th>\n",
       "    </tr>\n",
       "  </thead>\n",
       "  <tbody>\n",
       "    <tr>\n",
       "      <th>0</th>\n",
       "      <td>2006</td>\n",
       "      <td>AL</td>\n",
       "      <td>AUTAUGA</td>\n",
       "      <td>1.710054e+07</td>\n",
       "      <td>Alabama</td>\n",
       "      <td>Control</td>\n",
       "      <td>Autauga County</td>\n",
       "      <td>51328</td>\n",
       "      <td>both</td>\n",
       "    </tr>\n",
       "    <tr>\n",
       "      <th>1</th>\n",
       "      <td>2006</td>\n",
       "      <td>AL</td>\n",
       "      <td>BALDWIN</td>\n",
       "      <td>5.103983e+07</td>\n",
       "      <td>Alabama</td>\n",
       "      <td>Control</td>\n",
       "      <td>Baldwin County</td>\n",
       "      <td>168121</td>\n",
       "      <td>both</td>\n",
       "    </tr>\n",
       "    <tr>\n",
       "      <th>2</th>\n",
       "      <td>2006</td>\n",
       "      <td>AL</td>\n",
       "      <td>BARBOUR</td>\n",
       "      <td>5.764019e+06</td>\n",
       "      <td>Alabama</td>\n",
       "      <td>Control</td>\n",
       "      <td>Barbour County</td>\n",
       "      <td>27861</td>\n",
       "      <td>both</td>\n",
       "    </tr>\n",
       "    <tr>\n",
       "      <th>3</th>\n",
       "      <td>2006</td>\n",
       "      <td>AL</td>\n",
       "      <td>BIBB</td>\n",
       "      <td>6.278097e+06</td>\n",
       "      <td>Alabama</td>\n",
       "      <td>Control</td>\n",
       "      <td>Bibb County</td>\n",
       "      <td>22099</td>\n",
       "      <td>both</td>\n",
       "    </tr>\n",
       "    <tr>\n",
       "      <th>4</th>\n",
       "      <td>2006</td>\n",
       "      <td>AL</td>\n",
       "      <td>BLOUNT</td>\n",
       "      <td>1.041747e+07</td>\n",
       "      <td>Alabama</td>\n",
       "      <td>Control</td>\n",
       "      <td>Blount County</td>\n",
       "      <td>55485</td>\n",
       "      <td>both</td>\n",
       "    </tr>\n",
       "  </tbody>\n",
       "</table>\n",
       "</div>"
      ],
      "text/plain": [
       "   YEAR State_Abrv COUNTY_Abrv   MME_SHIPPED    STATE treatment_status  \\\n",
       "0  2006         AL     AUTAUGA  1.710054e+07  Alabama          Control   \n",
       "1  2006         AL     BALDWIN  5.103983e+07  Alabama          Control   \n",
       "2  2006         AL     BARBOUR  5.764019e+06  Alabama          Control   \n",
       "3  2006         AL        BIBB  6.278097e+06  Alabama          Control   \n",
       "4  2006         AL      BLOUNT  1.041747e+07  Alabama          Control   \n",
       "\n",
       "           COUNTY  TOTAL_POP _merge  \n",
       "0  Autauga County      51328   both  \n",
       "1  Baldwin County     168121   both  \n",
       "2  Barbour County      27861   both  \n",
       "3     Bibb County      22099   both  \n",
       "4   Blount County      55485   both  "
      ]
     },
     "execution_count": 604,
     "metadata": {},
     "output_type": "execute_result"
    }
   ],
   "source": [
    "op_pop.head()"
   ]
  },
  {
   "cell_type": "markdown",
   "metadata": {},
   "source": [
    "# Diff in Diff Plot"
   ]
  },
  {
   "cell_type": "code",
   "execution_count": 605,
   "metadata": {},
   "outputs": [],
   "source": [
    "def diff_in_diff_plot(df_treatment, df_control, policy_implementation_year, resp_variable):\n",
    "    \n",
    "    df_treatment['standardized_year'] = df_treatment['YEAR'] - policy_implementation_year\n",
    "    df_control['standardized_year'] = df_control['YEAR'] - policy_implementation_year\n",
    "    \n",
    "    lower_lim = df_treatment['standardized_year'].min()\n",
    "    upper_lim = df_treatment['standardized_year'].max()\n",
    "    \n",
    "    plot = (\n",
    "    ggplot() +\n",
    "    geom_smooth(df_treatment[df_treatment['standardized_year'] < 0], \n",
    "                aes(x='standardized_year', y=resp_variable, color='treatment_status'), method='lm') + \n",
    "    geom_smooth(df_treatment[df_treatment['standardized_year'] >= 0], \n",
    "                aes(x='standardized_year', y=resp_variable, color='treatment_status'), method='lm') + \n",
    "        \n",
    "    geom_smooth(df_control[df_control['standardized_year'] < 0], \n",
    "                aes(x='standardized_year', y=resp_variable, color='treatment_status'), method='lm') + \n",
    "    geom_smooth(df_control[df_control['standardized_year'] >= 0], \n",
    "                aes(x='standardized_year', y=resp_variable, color='treatment_status'), method='lm')\n",
    "    + geom_vline(xintercept = 0) \n",
    "    + xlab('standardized_year') + ylab(resp_variable)\n",
    "    + scale_x_continuous(breaks=range(lower_lim,upper_lim,1))\n",
    "        \n",
    "    )\n",
    "\n",
    "    return plot"
   ]
  },
  {
   "cell_type": "code",
   "execution_count": 606,
   "metadata": {},
   "outputs": [
    {
     "name": "stderr",
     "output_type": "stream",
     "text": [
      "/opt/anaconda3/lib/python3.8/site-packages/plotnine/utils.py:1246: FutureWarning: is_categorical is deprecated and will be removed in a future version.  Use is_categorical_dtype instead\n"
     ]
    },
    {
     "data": {
      "image/png": "[encoded data removed]",
      "text/plain": [
       "<Figure size 640x480 with 1 Axes>"
      ]
     },
     "metadata": {},
     "output_type": "display_data"
    },
    {
     "name": "stdout",
     "output_type": "stream",
     "text": [
      "<ggplot: (8776733131517)>\n"
     ]
    }
   ],
   "source": [
    "df_treatment_TX = mor_pop[mor_pop['State_Abrv'] == 'TX'].copy()\n",
    "df_control_TX = mor_pop[(mor_pop['State_Abrv'] == 'AZ') | (mor_pop['State_Abrv'] == 'CA') | (mor_pop['State_Abrv'] == 'OK')].copy()\n",
    "\n",
    "plot = diff_in_diff_plot(df_treatment_TX, df_control_TX, policy_implementation_year_TX, 'Deaths_Per_Cap')\n",
    "print(plot)"
   ]
  },
  {
   "cell_type": "markdown",
   "metadata": {},
   "source": [
    "# Pre Post Plot"
   ]
  },
  {
   "cell_type": "code",
   "execution_count": 607,
   "metadata": {},
   "outputs": [],
   "source": [
    "def pre_post_plot(df_treatment, policy_implementation_year, resp_variable):\n",
    "    \n",
    "    df_treatment['standardized_year'] = df_treatment['YEAR'] - policy_implementation_year\n",
    "    \n",
    "    lower_lim = df_treatment['standardized_year'].min()\n",
    "    upper_lim = df_treatment['standardized_year'].max()\n",
    "    \n",
    "    plot = (\n",
    "    ggplot() +\n",
    "    geom_smooth(df_treatment[df_treatment['standardized_year'] < 0], \n",
    "                aes(x='standardized_year', y=resp_variable, color='treatment_status'), method='lm') + \n",
    "    geom_smooth(df_treatment[df_treatment['standardized_year'] >= 0], \n",
    "                aes(x='standardized_year', y=resp_variable, color='treatment_status'), method='lm')\n",
    "        \n",
    "    + geom_vline(xintercept = 0) \n",
    "    + xlab('standardized_year') + ylab(resp_variable)\n",
    "    + scale_x_continuous(breaks=range(lower_lim,upper_lim,1))\n",
    "        \n",
    "    )\n",
    "\n",
    "    return plot"
   ]
  },
  {
   "cell_type": "code",
   "execution_count": 608,
   "metadata": {},
   "outputs": [
    {
     "name": "stderr",
     "output_type": "stream",
     "text": [
      "/opt/anaconda3/lib/python3.8/site-packages/plotnine/utils.py:1246: FutureWarning: is_categorical is deprecated and will be removed in a future version.  Use is_categorical_dtype instead\n"
     ]
    },
    {
     "data": {
      "image/png": "[encoded data removed]",
      "text/plain": [
       "<Figure size 640x480 with 1 Axes>"
      ]
     },
     "metadata": {},
     "output_type": "display_data"
    },
    {
     "name": "stdout",
     "output_type": "stream",
     "text": [
      "<ggplot: (8776047785991)>\n"
     ]
    }
   ],
   "source": [
    "df_treatment_TX = mor_pop[mor_pop['State_Abrv'] == 'TX'].copy()\n",
    "df_control_TX = mor_pop[(mor_pop['State_Abrv'] == 'AZ') | (mor_pop['State_Abrv'] == 'CA') | (mor_pop['State_Abrv'] == 'OK')].copy()\n",
    "\n",
    "plot = pre_post_plot(df_treatment_TX, policy_implementation_year_TX, 'Deaths_Per_Cap')\n",
    "print(plot)"
   ]
  },
  {
   "cell_type": "code",
   "execution_count": null,
   "metadata": {},
   "outputs": [],
   "source": []
  }
 ],
 "metadata": {
  "kernelspec": {
   "display_name": "Python 3",
   "language": "python",
   "name": "python3"
  },
  "language_info": {
   "codemirror_mode": {
    "name": "ipython",
    "version": 3
   },
   "file_extension": ".py",
   "mimetype": "text/x-python",
   "name": "python",
   "nbconvert_exporter": "python",
   "pygments_lexer": "ipython3",
   "version": "3.8.3"
  }
 },
 "nbformat": 4,
 "nbformat_minor": 4
}
