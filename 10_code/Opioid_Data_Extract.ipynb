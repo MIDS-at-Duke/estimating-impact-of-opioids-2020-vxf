{
 "cells": [
  {
   "cell_type": "code",
   "execution_count": 2,
   "metadata": {},
   "outputs": [],
   "source": [
    "import pandas as pd\n",
    "import numpy as np"
   ]
  },
  {
   "cell_type": "code",
   "execution_count": 20,
   "metadata": {},
   "outputs": [],
   "source": [
    "# Need to update file path to point of zip file.\n",
    "# df_chunks = pd.read_csv(\"E:/Study/Duke Class/G2S1/Data Science/Final/arcos_all_washpost.tsv.gz\"\n",
    "#                  , chunksize=100000\n",
    "#                  , sep='\\t'\n",
    "#                  , usecols = ['CALC_BASE_WT_IN_GM','BUYER_STATE','BUYER_COUNTY']\n",
    "#                 )\n",
    "# opioid_df = pd.DataFrame()\n",
    "# for i in df_chunks:\n",
    "#     opioid_df = opioid_df.append(i.loc[i[\"BUYER_STATE\"].isin([\"FL\", \"AL\", \"SC\", \"GA\", \n",
    "#                                                               \"TX\", \"AZ\", \"CA\", \"OK\",\n",
    "#                                                               \"WA\", \"NC\", \"UT\", \"CO\"\n",
    "#                                                              ])])\n",
    "    \n"
   ]
  },
  {
   "cell_type": "code",
   "execution_count": 21,
   "metadata": {
    "jupyter": {
     "source_hidden": true
    }
   },
   "outputs": [],
   "source": [
    "#opioid_df.to_csv (\"E:/Study/Duke Class/G2S1/Data Science/Final/opioid_ship_weight.csv\")"
   ]
  },
  {
   "cell_type": "code",
   "execution_count": 3,
   "metadata": {},
   "outputs": [
    {
     "name": "stderr",
     "output_type": "stream",
     "text": [
      "C:\\Users\\satpa\\Anaconda3\\lib\\site-packages\\IPython\\core\\interactiveshell.py:3057: DtypeWarning: Columns (6) have mixed types.Specify dtype option on import or set low_memory=False.\n",
      "  interactivity=interactivity, compiler=compiler, result=result)\n"
     ]
    }
   ],
   "source": [
    "extracted = pd.read_csv(\"E:/Study/Duke Class/G2S1/Data Science/Final/opioid_ship_extracted.csv\")\n",
    "extracted2 = pd.read_csv(\"E:/Study/Duke Class/G2S1/Data Science/Final/opioid_ship_weight.csv\")\n",
    "opioid_Reduced = pd.merge(extracted, extracted2, how = 'inner', left_index = True, right_index = True)"
   ]
  },
  {
   "cell_type": "code",
   "execution_count": 4,
   "metadata": {},
   "outputs": [
    {
     "data": {
      "text/html": [
       "<div>\n",
       "<style scoped>\n",
       "    .dataframe tbody tr th:only-of-type {\n",
       "        vertical-align: middle;\n",
       "    }\n",
       "\n",
       "    .dataframe tbody tr th {\n",
       "        vertical-align: top;\n",
       "    }\n",
       "\n",
       "    .dataframe thead th {\n",
       "        text-align: right;\n",
       "    }\n",
       "</style>\n",
       "<table border=\"1\" class=\"dataframe\">\n",
       "  <thead>\n",
       "    <tr style=\"text-align: right;\">\n",
       "      <th></th>\n",
       "      <th>Unnamed: 0_x</th>\n",
       "      <th>BUYER_CITY</th>\n",
       "      <th>BUYER_STATE_x</th>\n",
       "      <th>BUYER_COUNTY_x</th>\n",
       "      <th>DRUG_NAME</th>\n",
       "      <th>QUANTITY</th>\n",
       "      <th>UNIT</th>\n",
       "      <th>TRANSACTION_DATE</th>\n",
       "      <th>DOSAGE_UNIT</th>\n",
       "      <th>MME_Conversion_Factor</th>\n",
       "      <th>dos_str</th>\n",
       "      <th>Unnamed: 0_y</th>\n",
       "      <th>BUYER_STATE_y</th>\n",
       "      <th>BUYER_COUNTY_y</th>\n",
       "      <th>CALC_BASE_WT_IN_GM</th>\n",
       "    </tr>\n",
       "  </thead>\n",
       "  <tbody>\n",
       "    <tr>\n",
       "      <th>0</th>\n",
       "      <td>1</td>\n",
       "      <td>PHOENIX</td>\n",
       "      <td>AZ</td>\n",
       "      <td>MARICOPA</td>\n",
       "      <td>HYDROCODONE</td>\n",
       "      <td>4.0</td>\n",
       "      <td>NaN</td>\n",
       "      <td>3112009</td>\n",
       "      <td>40.0</td>\n",
       "      <td>1.0</td>\n",
       "      <td>5.0</td>\n",
       "      <td>1</td>\n",
       "      <td>AZ</td>\n",
       "      <td>MARICOPA</td>\n",
       "      <td>0.12108</td>\n",
       "    </tr>\n",
       "    <tr>\n",
       "      <th>1</th>\n",
       "      <td>2</td>\n",
       "      <td>GILBERT</td>\n",
       "      <td>AZ</td>\n",
       "      <td>MARICOPA</td>\n",
       "      <td>HYDROCODONE</td>\n",
       "      <td>40.0</td>\n",
       "      <td>NaN</td>\n",
       "      <td>11252008</td>\n",
       "      <td>1200.0</td>\n",
       "      <td>1.0</td>\n",
       "      <td>5.0</td>\n",
       "      <td>2</td>\n",
       "      <td>AZ</td>\n",
       "      <td>MARICOPA</td>\n",
       "      <td>3.63240</td>\n",
       "    </tr>\n",
       "    <tr>\n",
       "      <th>2</th>\n",
       "      <td>3</td>\n",
       "      <td>GILBERT</td>\n",
       "      <td>AZ</td>\n",
       "      <td>MARICOPA</td>\n",
       "      <td>HYDROCODONE</td>\n",
       "      <td>20.0</td>\n",
       "      <td>NaN</td>\n",
       "      <td>6122009</td>\n",
       "      <td>600.0</td>\n",
       "      <td>1.0</td>\n",
       "      <td>7.5</td>\n",
       "      <td>3</td>\n",
       "      <td>AZ</td>\n",
       "      <td>MARICOPA</td>\n",
       "      <td>2.72430</td>\n",
       "    </tr>\n",
       "    <tr>\n",
       "      <th>3</th>\n",
       "      <td>4</td>\n",
       "      <td>GILBERT</td>\n",
       "      <td>AZ</td>\n",
       "      <td>MARICOPA</td>\n",
       "      <td>HYDROCODONE</td>\n",
       "      <td>10.0</td>\n",
       "      <td>NaN</td>\n",
       "      <td>10022009</td>\n",
       "      <td>300.0</td>\n",
       "      <td>1.0</td>\n",
       "      <td>5.0</td>\n",
       "      <td>4</td>\n",
       "      <td>AZ</td>\n",
       "      <td>MARICOPA</td>\n",
       "      <td>0.90810</td>\n",
       "    </tr>\n",
       "    <tr>\n",
       "      <th>4</th>\n",
       "      <td>5</td>\n",
       "      <td>GILBERT</td>\n",
       "      <td>AZ</td>\n",
       "      <td>MARICOPA</td>\n",
       "      <td>HYDROCODONE</td>\n",
       "      <td>20.0</td>\n",
       "      <td>NaN</td>\n",
       "      <td>3232010</td>\n",
       "      <td>600.0</td>\n",
       "      <td>1.0</td>\n",
       "      <td>5.0</td>\n",
       "      <td>5</td>\n",
       "      <td>AZ</td>\n",
       "      <td>MARICOPA</td>\n",
       "      <td>1.81620</td>\n",
       "    </tr>\n",
       "  </tbody>\n",
       "</table>\n",
       "</div>"
      ],
      "text/plain": [
       "   Unnamed: 0_x BUYER_CITY BUYER_STATE_x BUYER_COUNTY_x    DRUG_NAME  \\\n",
       "0             1    PHOENIX            AZ       MARICOPA  HYDROCODONE   \n",
       "1             2    GILBERT            AZ       MARICOPA  HYDROCODONE   \n",
       "2             3    GILBERT            AZ       MARICOPA  HYDROCODONE   \n",
       "3             4    GILBERT            AZ       MARICOPA  HYDROCODONE   \n",
       "4             5    GILBERT            AZ       MARICOPA  HYDROCODONE   \n",
       "\n",
       "   QUANTITY UNIT  TRANSACTION_DATE  DOSAGE_UNIT  MME_Conversion_Factor  \\\n",
       "0       4.0  NaN           3112009         40.0                    1.0   \n",
       "1      40.0  NaN          11252008       1200.0                    1.0   \n",
       "2      20.0  NaN           6122009        600.0                    1.0   \n",
       "3      10.0  NaN          10022009        300.0                    1.0   \n",
       "4      20.0  NaN           3232010        600.0                    1.0   \n",
       "\n",
       "   dos_str  Unnamed: 0_y BUYER_STATE_y BUYER_COUNTY_y  CALC_BASE_WT_IN_GM  \n",
       "0      5.0             1            AZ       MARICOPA             0.12108  \n",
       "1      5.0             2            AZ       MARICOPA             3.63240  \n",
       "2      7.5             3            AZ       MARICOPA             2.72430  \n",
       "3      5.0             4            AZ       MARICOPA             0.90810  \n",
       "4      5.0             5            AZ       MARICOPA             1.81620  "
      ]
     },
     "execution_count": 4,
     "metadata": {},
     "output_type": "execute_result"
    }
   ],
   "source": [
    "opioid_Reduced.head(5)"
   ]
  },
  {
   "cell_type": "code",
   "execution_count": 5,
   "metadata": {},
   "outputs": [],
   "source": [
    "opioid_df = opioid_Reduced[['BUYER_CITY','BUYER_STATE_x','BUYER_COUNTY_x','DRUG_NAME','TRANSACTION_DATE','MME_Conversion_Factor','CALC_BASE_WT_IN_GM']]\n",
    "opioid_df.columns = ['BUYER_CITY','BUYER_STATE','BUYER_COUNTY','DRUG_NAME','TRANSACTION_DATE','MME_Conversion_Factor','Weight_gram']"
   ]
  },
  {
   "cell_type": "code",
   "execution_count": 6,
   "metadata": {},
   "outputs": [
    {
     "data": {
      "text/html": [
       "<div>\n",
       "<style scoped>\n",
       "    .dataframe tbody tr th:only-of-type {\n",
       "        vertical-align: middle;\n",
       "    }\n",
       "\n",
       "    .dataframe tbody tr th {\n",
       "        vertical-align: top;\n",
       "    }\n",
       "\n",
       "    .dataframe thead th {\n",
       "        text-align: right;\n",
       "    }\n",
       "</style>\n",
       "<table border=\"1\" class=\"dataframe\">\n",
       "  <thead>\n",
       "    <tr style=\"text-align: right;\">\n",
       "      <th></th>\n",
       "      <th>BUYER_CITY</th>\n",
       "      <th>BUYER_STATE</th>\n",
       "      <th>BUYER_COUNTY</th>\n",
       "      <th>DRUG_NAME</th>\n",
       "      <th>TRANSACTION_DATE</th>\n",
       "      <th>MME_Conversion_Factor</th>\n",
       "      <th>Weight_gram</th>\n",
       "    </tr>\n",
       "  </thead>\n",
       "  <tbody>\n",
       "    <tr>\n",
       "      <th>0</th>\n",
       "      <td>PHOENIX</td>\n",
       "      <td>AZ</td>\n",
       "      <td>MARICOPA</td>\n",
       "      <td>HYDROCODONE</td>\n",
       "      <td>3112009</td>\n",
       "      <td>1.0</td>\n",
       "      <td>0.12108</td>\n",
       "    </tr>\n",
       "    <tr>\n",
       "      <th>1</th>\n",
       "      <td>GILBERT</td>\n",
       "      <td>AZ</td>\n",
       "      <td>MARICOPA</td>\n",
       "      <td>HYDROCODONE</td>\n",
       "      <td>11252008</td>\n",
       "      <td>1.0</td>\n",
       "      <td>3.63240</td>\n",
       "    </tr>\n",
       "    <tr>\n",
       "      <th>2</th>\n",
       "      <td>GILBERT</td>\n",
       "      <td>AZ</td>\n",
       "      <td>MARICOPA</td>\n",
       "      <td>HYDROCODONE</td>\n",
       "      <td>6122009</td>\n",
       "      <td>1.0</td>\n",
       "      <td>2.72430</td>\n",
       "    </tr>\n",
       "    <tr>\n",
       "      <th>3</th>\n",
       "      <td>GILBERT</td>\n",
       "      <td>AZ</td>\n",
       "      <td>MARICOPA</td>\n",
       "      <td>HYDROCODONE</td>\n",
       "      <td>10022009</td>\n",
       "      <td>1.0</td>\n",
       "      <td>0.90810</td>\n",
       "    </tr>\n",
       "    <tr>\n",
       "      <th>4</th>\n",
       "      <td>GILBERT</td>\n",
       "      <td>AZ</td>\n",
       "      <td>MARICOPA</td>\n",
       "      <td>HYDROCODONE</td>\n",
       "      <td>3232010</td>\n",
       "      <td>1.0</td>\n",
       "      <td>1.81620</td>\n",
       "    </tr>\n",
       "  </tbody>\n",
       "</table>\n",
       "</div>"
      ],
      "text/plain": [
       "  BUYER_CITY BUYER_STATE BUYER_COUNTY    DRUG_NAME  TRANSACTION_DATE  \\\n",
       "0    PHOENIX          AZ     MARICOPA  HYDROCODONE           3112009   \n",
       "1    GILBERT          AZ     MARICOPA  HYDROCODONE          11252008   \n",
       "2    GILBERT          AZ     MARICOPA  HYDROCODONE           6122009   \n",
       "3    GILBERT          AZ     MARICOPA  HYDROCODONE          10022009   \n",
       "4    GILBERT          AZ     MARICOPA  HYDROCODONE           3232010   \n",
       "\n",
       "   MME_Conversion_Factor  Weight_gram  \n",
       "0                    1.0      0.12108  \n",
       "1                    1.0      3.63240  \n",
       "2                    1.0      2.72430  \n",
       "3                    1.0      0.90810  \n",
       "4                    1.0      1.81620  "
      ]
     },
     "execution_count": 6,
     "metadata": {},
     "output_type": "execute_result"
    }
   ],
   "source": [
    "opioid_df.head(5)"
   ]
  },
  {
   "cell_type": "code",
   "execution_count": 11,
   "metadata": {},
   "outputs": [],
   "source": [
    "opioid_df.to_csv (\"E:/Study/Duke Class/G2S1/Data Science/Final/opioid_df.csv\")"
   ]
  },
  {
   "cell_type": "code",
   "execution_count": 37,
   "metadata": {},
   "outputs": [
    {
     "name": "stdout",
     "output_type": "stream",
     "text": [
      "(74136256, 11) (74136256, 4) (74136256, 7)\n"
     ]
    }
   ],
   "source": [
    "# print(\n",
    "# extracted.shape,\n",
    "# extracted2.shape,\n",
    "# opioid_df.shape\n",
    "# )"
   ]
  },
  {
   "cell_type": "code",
   "execution_count": null,
   "metadata": {},
   "outputs": [],
   "source": [
    "opioid_df = pd.read_csv(\"E:/Study/Duke Class/G2S1/Data Science/Final/opioid_df.csv\")"
   ]
  },
  {
   "cell_type": "code",
   "execution_count": null,
   "metadata": {},
   "outputs": [],
   "source": [
    "opioid_df['Year'] = [str(x)[-4:] for x in opioid_df['TRANSACTION_DATE'].tolist()]"
   ]
  },
  {
   "cell_type": "code",
   "execution_count": null,
   "metadata": {},
   "outputs": [],
   "source": [
    "opioid_df = opioid_df.drop(['TRANSACTION_DATE','Unnamed: 0','BUYER_CITY'], axis =1)"
   ]
  },
  {
   "cell_type": "code",
   "execution_count": null,
   "metadata": {},
   "outputs": [],
   "source": [
    "opioid_df ['DRUG_TOTAL'] = opioid_df.MME_Conversion_Factor * opioid_df.Weight_gram"
   ]
  },
  {
   "cell_type": "code",
   "execution_count": null,
   "metadata": {},
   "outputs": [],
   "source": [
    "opioid_df.head(5)"
   ]
  },
  {
   "cell_type": "code",
   "execution_count": null,
   "metadata": {},
   "outputs": [],
   "source": [
    "opioid_df.to_csv (\"E:/Study/Duke Class/G2S1/Data Science/Final/opioid_df_V2.csv\")"
   ]
  },
  {
   "cell_type": "code",
   "execution_count": 23,
   "metadata": {},
   "outputs": [
    {
     "data": {
      "text/html": [
       "<div>\n",
       "<style scoped>\n",
       "    .dataframe tbody tr th:only-of-type {\n",
       "        vertical-align: middle;\n",
       "    }\n",
       "\n",
       "    .dataframe tbody tr th {\n",
       "        vertical-align: top;\n",
       "    }\n",
       "\n",
       "    .dataframe thead th {\n",
       "        text-align: right;\n",
       "    }\n",
       "</style>\n",
       "<table border=\"1\" class=\"dataframe\">\n",
       "  <thead>\n",
       "    <tr style=\"text-align: right;\">\n",
       "      <th></th>\n",
       "      <th>Year</th>\n",
       "      <th>State</th>\n",
       "      <th>County</th>\n",
       "      <th>Deaths</th>\n",
       "    </tr>\n",
       "  </thead>\n",
       "  <tbody>\n",
       "    <tr>\n",
       "      <th>0</th>\n",
       "      <td>2003.0</td>\n",
       "      <td>LA</td>\n",
       "      <td>Acadia Parish</td>\n",
       "      <td>11.0</td>\n",
       "    </tr>\n",
       "    <tr>\n",
       "      <th>1</th>\n",
       "      <td>2005.0</td>\n",
       "      <td>LA</td>\n",
       "      <td>Acadia Parish</td>\n",
       "      <td>23.0</td>\n",
       "    </tr>\n",
       "    <tr>\n",
       "      <th>2</th>\n",
       "      <td>2006.0</td>\n",
       "      <td>LA</td>\n",
       "      <td>Acadia Parish</td>\n",
       "      <td>19.0</td>\n",
       "    </tr>\n",
       "  </tbody>\n",
       "</table>\n",
       "</div>"
      ],
      "text/plain": [
       "     Year State         County  Deaths\n",
       "0  2003.0    LA  Acadia Parish    11.0\n",
       "1  2005.0    LA  Acadia Parish    23.0\n",
       "2  2006.0    LA  Acadia Parish    19.0"
      ]
     },
     "execution_count": 23,
     "metadata": {},
     "output_type": "execute_result"
    }
   ],
   "source": [
    "mortality = pd.read_csv('E:/Study/Duke Class/G2S1/Data Science/Cmder/estimating-impact-of-opioids-2020-vxf/20_intermediate_files/mortality_non_aggregated.csv')\n",
    "mortality = mortality.drop('Unnamed: 0', axis =1)\n",
    "mortality.head(3)"
   ]
  },
  {
   "cell_type": "code",
   "execution_count": 84,
   "metadata": {},
   "outputs": [
    {
     "data": {
      "text/html": [
       "<div>\n",
       "<style scoped>\n",
       "    .dataframe tbody tr th:only-of-type {\n",
       "        vertical-align: middle;\n",
       "    }\n",
       "\n",
       "    .dataframe tbody tr th {\n",
       "        vertical-align: top;\n",
       "    }\n",
       "\n",
       "    .dataframe thead th {\n",
       "        text-align: right;\n",
       "    }\n",
       "</style>\n",
       "<table border=\"1\" class=\"dataframe\">\n",
       "  <thead>\n",
       "    <tr style=\"text-align: right;\">\n",
       "      <th></th>\n",
       "      <th>GISJOIN</th>\n",
       "      <th>YEAR</th>\n",
       "      <th>STATE</th>\n",
       "      <th>STATEFP</th>\n",
       "      <th>STATENH</th>\n",
       "      <th>COUNTY</th>\n",
       "      <th>COUNTYFP</th>\n",
       "      <th>COUNTYNH</th>\n",
       "      <th>NAME</th>\n",
       "      <th>B18AA</th>\n",
       "      <th>...</th>\n",
       "      <th>CV4AA</th>\n",
       "      <th>CV4AB</th>\n",
       "      <th>CV4AC</th>\n",
       "      <th>CV4AD</th>\n",
       "      <th>CV4AE</th>\n",
       "      <th>CV4AF</th>\n",
       "      <th>CV4AG</th>\n",
       "      <th>CV4AH</th>\n",
       "      <th>CV4AI</th>\n",
       "      <th>CV4AJ</th>\n",
       "    </tr>\n",
       "  </thead>\n",
       "  <tbody>\n",
       "    <tr>\n",
       "      <th>0</th>\n",
       "      <td>G0100010</td>\n",
       "      <td>1970</td>\n",
       "      <td>Alabama</td>\n",
       "      <td>1</td>\n",
       "      <td>10</td>\n",
       "      <td>Autauga County</td>\n",
       "      <td>1</td>\n",
       "      <td>10</td>\n",
       "      <td>Autauga</td>\n",
       "      <td>17511</td>\n",
       "      <td>...</td>\n",
       "      <td>NaN</td>\n",
       "      <td>NaN</td>\n",
       "      <td>NaN</td>\n",
       "      <td>NaN</td>\n",
       "      <td>NaN</td>\n",
       "      <td>NaN</td>\n",
       "      <td>NaN</td>\n",
       "      <td>NaN</td>\n",
       "      <td>NaN</td>\n",
       "      <td>NaN</td>\n",
       "    </tr>\n",
       "    <tr>\n",
       "      <th>1</th>\n",
       "      <td>G0100030</td>\n",
       "      <td>1970</td>\n",
       "      <td>Alabama</td>\n",
       "      <td>1</td>\n",
       "      <td>10</td>\n",
       "      <td>Baldwin County</td>\n",
       "      <td>3</td>\n",
       "      <td>30</td>\n",
       "      <td>Baldwin</td>\n",
       "      <td>48650</td>\n",
       "      <td>...</td>\n",
       "      <td>NaN</td>\n",
       "      <td>NaN</td>\n",
       "      <td>NaN</td>\n",
       "      <td>NaN</td>\n",
       "      <td>NaN</td>\n",
       "      <td>NaN</td>\n",
       "      <td>NaN</td>\n",
       "      <td>NaN</td>\n",
       "      <td>NaN</td>\n",
       "      <td>NaN</td>\n",
       "    </tr>\n",
       "    <tr>\n",
       "      <th>2</th>\n",
       "      <td>G0100050</td>\n",
       "      <td>1970</td>\n",
       "      <td>Alabama</td>\n",
       "      <td>1</td>\n",
       "      <td>10</td>\n",
       "      <td>Barbour County</td>\n",
       "      <td>5</td>\n",
       "      <td>50</td>\n",
       "      <td>Barbour</td>\n",
       "      <td>12134</td>\n",
       "      <td>...</td>\n",
       "      <td>NaN</td>\n",
       "      <td>NaN</td>\n",
       "      <td>NaN</td>\n",
       "      <td>NaN</td>\n",
       "      <td>NaN</td>\n",
       "      <td>NaN</td>\n",
       "      <td>NaN</td>\n",
       "      <td>NaN</td>\n",
       "      <td>NaN</td>\n",
       "      <td>NaN</td>\n",
       "    </tr>\n",
       "    <tr>\n",
       "      <th>3</th>\n",
       "      <td>G0100070</td>\n",
       "      <td>1970</td>\n",
       "      <td>Alabama</td>\n",
       "      <td>1</td>\n",
       "      <td>10</td>\n",
       "      <td>Bibb County</td>\n",
       "      <td>7</td>\n",
       "      <td>70</td>\n",
       "      <td>Bibb</td>\n",
       "      <td>9953</td>\n",
       "      <td>...</td>\n",
       "      <td>NaN</td>\n",
       "      <td>NaN</td>\n",
       "      <td>NaN</td>\n",
       "      <td>NaN</td>\n",
       "      <td>NaN</td>\n",
       "      <td>NaN</td>\n",
       "      <td>NaN</td>\n",
       "      <td>NaN</td>\n",
       "      <td>NaN</td>\n",
       "      <td>NaN</td>\n",
       "    </tr>\n",
       "    <tr>\n",
       "      <th>4</th>\n",
       "      <td>G0100090</td>\n",
       "      <td>1970</td>\n",
       "      <td>Alabama</td>\n",
       "      <td>1</td>\n",
       "      <td>10</td>\n",
       "      <td>Blount County</td>\n",
       "      <td>9</td>\n",
       "      <td>90</td>\n",
       "      <td>Blount</td>\n",
       "      <td>26205</td>\n",
       "      <td>...</td>\n",
       "      <td>NaN</td>\n",
       "      <td>NaN</td>\n",
       "      <td>NaN</td>\n",
       "      <td>NaN</td>\n",
       "      <td>NaN</td>\n",
       "      <td>NaN</td>\n",
       "      <td>NaN</td>\n",
       "      <td>NaN</td>\n",
       "      <td>NaN</td>\n",
       "      <td>NaN</td>\n",
       "    </tr>\n",
       "  </tbody>\n",
       "</table>\n",
       "<p>5 rows × 24 columns</p>\n",
       "</div>"
      ],
      "text/plain": [
       "    GISJOIN  YEAR    STATE  STATEFP  STATENH          COUNTY  COUNTYFP  \\\n",
       "0  G0100010  1970  Alabama        1       10  Autauga County         1   \n",
       "1  G0100030  1970  Alabama        1       10  Baldwin County         3   \n",
       "2  G0100050  1970  Alabama        1       10  Barbour County         5   \n",
       "3  G0100070  1970  Alabama        1       10     Bibb County         7   \n",
       "4  G0100090  1970  Alabama        1       10   Blount County         9   \n",
       "\n",
       "   COUNTYNH     NAME  B18AA  ...  CV4AA  CV4AB  CV4AC  CV4AD  CV4AE  CV4AF  \\\n",
       "0        10  Autauga  17511  ...    NaN    NaN    NaN    NaN    NaN    NaN   \n",
       "1        30  Baldwin  48650  ...    NaN    NaN    NaN    NaN    NaN    NaN   \n",
       "2        50  Barbour  12134  ...    NaN    NaN    NaN    NaN    NaN    NaN   \n",
       "3        70     Bibb   9953  ...    NaN    NaN    NaN    NaN    NaN    NaN   \n",
       "4        90   Blount  26205  ...    NaN    NaN    NaN    NaN    NaN    NaN   \n",
       "\n",
       "   CV4AG  CV4AH  CV4AI  CV4AJ  \n",
       "0    NaN    NaN    NaN    NaN  \n",
       "1    NaN    NaN    NaN    NaN  \n",
       "2    NaN    NaN    NaN    NaN  \n",
       "3    NaN    NaN    NaN    NaN  \n",
       "4    NaN    NaN    NaN    NaN  \n",
       "\n",
       "[5 rows x 24 columns]"
      ]
     },
     "execution_count": 84,
     "metadata": {},
     "output_type": "execute_result"
    }
   ],
   "source": [
    "Population = pd.read_csv('E:/Study/Duke Class/G2S1/Data Science/Cmder/estimating-impact-of-opioids-2020-vxf/20_intermediate_files/census_ts_nominal_county.csv', engine = \"python\")\n",
    "Population.head(5)"
   ]
  },
  {
   "cell_type": "code",
   "execution_count": 57,
   "metadata": {},
   "outputs": [
    {
     "data": {
      "text/plain": [
       "2010    3221\n",
       "1990    3141\n",
       "2000    3141\n",
       "1970    3140\n",
       "1980    3137\n",
       "Name: YEAR, dtype: int64"
      ]
     },
     "execution_count": 57,
     "metadata": {},
     "output_type": "execute_result"
    }
   ],
   "source": [
    "Population ['YEAR'].value_counts()"
   ]
  },
  {
   "cell_type": "code",
   "execution_count": 85,
   "metadata": {},
   "outputs": [],
   "source": [
    "Population['Total_pop'] = Population['B18AA'] + Population['B18AA'] + Population['B18AB'] + Population['B18AC'] + Population['B18AD']\n",
    "Population = Population[['YEAR','STATEFP','STATE','COUNTY','COUNTYFP','Total_pop']]\n",
    "StateL = ['Florida', 'Alabama', 'South Carolina', 'Georgia', 'Texas', 'Arizona', 'California', 'Oklahoma','Washington','North Carolina','Utah','Colorado']\n",
    "Population = Population[Population['STATE'].isin(StateL)]\n",
    "state_dic = {'AL':'Alabama',\n",
    "             'FL':'Florida',\n",
    "             'SC':'South Carolina',\n",
    "             'GA':'Georgia',\n",
    "             'TX':'Texas',\n",
    "             'OK':'Oklahoma',\n",
    "             'WA':'Washington',\n",
    "             'NC':'North Carolina',\n",
    "             'CO':'Colorado',\n",
    "             'AZ':'Arizona',\n",
    "             'CA':'California',\n",
    "             'UT':'Utah'}\n",
    "mortality.loc[mortality['State'] == 'AL', 'state_full'] = 'Alabama'\n",
    "mortality.loc[mortality['State'] == 'FL', 'state_full'] = 'Florida'\n",
    "mortality.loc[mortality['State'] == 'SC', 'state_full'] = 'South Carolina'\n",
    "mortality.loc[mortality['State'] == 'GA', 'state_full'] = 'Georgia'\n",
    "mortality.loc[mortality['State'] == 'TX', 'state_full'] = 'Texas'\n",
    "mortality.loc[mortality['State'] == 'OK', 'state_full'] = 'Oklahoma'\n",
    "mortality.loc[mortality['State'] == 'WA', 'state_full'] = 'Washington'\n",
    "mortality.loc[mortality['State'] == 'NC', 'state_full'] = 'North Carolina'\n",
    "mortality.loc[mortality['State'] == 'CO', 'state_full'] = 'Colorado'\n",
    "mortality.loc[mortality['State'] == 'AZ', 'state_full'] = 'Arizona'\n",
    "mortality.loc[mortality['State'] == 'CA', 'state_full'] = 'California'\n",
    "mortality.loc[mortality['State'] == 'UT', 'state_full'] = 'Utah'"
   ]
  },
  {
   "cell_type": "code",
   "execution_count": 86,
   "metadata": {},
   "outputs": [
    {
     "data": {
      "text/plain": [
       "Series([], Name: state_full, dtype: int64)"
      ]
     },
     "execution_count": 86,
     "metadata": {},
     "output_type": "execute_result"
    }
   ],
   "source": [
    "mortality['state_full'].value_counts()"
   ]
  },
  {
   "cell_type": "code",
   "execution_count": 80,
   "metadata": {},
   "outputs": [],
   "source": [
    "left_merge = ['Year', 'state_full', 'County']\n",
    "right_merge = ['YEAR', 'STATE','COUNTY']"
   ]
  },
  {
   "cell_type": "code",
   "execution_count": 81,
   "metadata": {},
   "outputs": [],
   "source": [
    "mor_pop = pd.merge(mortality,Population, how='outer', indicator = True, left_on= left_merge, right_on = right_merge)\n",
    "mortality = mortality[mortality['state_full'].isin(StateL)]\n",
    "#mor_pop[mor_pop['_merge'] != 'both']"
   ]
  },
  {
   "cell_type": "code",
   "execution_count": 82,
   "metadata": {},
   "outputs": [
    {
     "data": {
      "text/html": [
       "<div>\n",
       "<style scoped>\n",
       "    .dataframe tbody tr th:only-of-type {\n",
       "        vertical-align: middle;\n",
       "    }\n",
       "\n",
       "    .dataframe tbody tr th {\n",
       "        vertical-align: top;\n",
       "    }\n",
       "\n",
       "    .dataframe thead th {\n",
       "        text-align: right;\n",
       "    }\n",
       "</style>\n",
       "<table border=\"1\" class=\"dataframe\">\n",
       "  <thead>\n",
       "    <tr style=\"text-align: right;\">\n",
       "      <th></th>\n",
       "      <th>Year</th>\n",
       "      <th>State</th>\n",
       "      <th>County</th>\n",
       "      <th>Deaths</th>\n",
       "      <th>state_full</th>\n",
       "    </tr>\n",
       "  </thead>\n",
       "  <tbody>\n",
       "  </tbody>\n",
       "</table>\n",
       "</div>"
      ],
      "text/plain": [
       "Empty DataFrame\n",
       "Columns: [Year, State, County, Deaths, state_full]\n",
       "Index: []"
      ]
     },
     "execution_count": 82,
     "metadata": {},
     "output_type": "execute_result"
    }
   ],
   "source": [
    "stat"
   ]
  },
  {
   "cell_type": "code",
   "execution_count": null,
   "metadata": {},
   "outputs": [],
   "source": [
    "opioid_state = opioid_df.groupby(['Year', 'BUYER_STATE'], as_index=False).sum()"
   ]
  },
  {
   "cell_type": "code",
   "execution_count": null,
   "metadata": {},
   "outputs": [],
   "source": []
  },
  {
   "cell_type": "code",
   "execution_count": null,
   "metadata": {},
   "outputs": [],
   "source": []
  }
 ],
 "metadata": {
  "kernelspec": {
   "display_name": "Python 3",
   "language": "python",
   "name": "python3"
  },
  "language_info": {
   "codemirror_mode": {
    "name": "ipython",
    "version": 3
   },
   "file_extension": ".py",
   "mimetype": "text/x-python",
   "name": "python",
   "nbconvert_exporter": "python",
   "pygments_lexer": "ipython3",
   "version": "3.7.3"
  }
 },
 "nbformat": 4,
 "nbformat_minor": 4
}
